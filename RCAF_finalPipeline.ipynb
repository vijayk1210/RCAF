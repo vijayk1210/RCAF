{
 "cells": [
  {
   "cell_type": "code",
   "execution_count": 23,
   "metadata": {},
   "outputs": [],
   "source": [
    "import pandas as pd\n",
    "import numpy as np\n",
    "from ipynb.fs.defs import RCAF_Featurization2 , RCAF_EDA"
   ]
  },
  {
   "cell_type": "code",
   "execution_count": 13,
   "metadata": {},
   "outputs": [],
   "source": [
    "test_raw_data = pd.read_csv('test.csv')"
   ]
  },
  {
   "cell_type": "code",
   "execution_count": null,
   "metadata": {},
   "outputs": [],
   "source": [
    "sub_test_data = test_raw_data.iloc[2000:2500,:] ## Some of the interpolation methods like in repiration require certain amount of data to work."
   ]
  },
  {
   "cell_type": "code",
   "execution_count": 57,
   "metadata": {},
   "outputs": [],
   "source": [
    "pickle.dump(sub_test_data, open('test_data/sub_test_data', 'wb'))"
   ]
  },
  {
   "cell_type": "code",
   "execution_count": 7,
   "metadata": {},
   "outputs": [],
   "source": [
    "sub_test_data = pickle.load(open('test_data/sub_test_data', 'rb'))"
   ]
  },
  {
   "cell_type": "code",
   "execution_count": 3,
   "metadata": {},
   "outputs": [],
   "source": [
    "best_model = pickle.load(open('best_model/lgbm_40est', 'rb'))"
   ]
  },
  {
   "cell_type": "code",
   "execution_count": null,
   "metadata": {},
   "outputs": [],
   "source": []
  },
  {
   "cell_type": "code",
   "execution_count": 17,
   "metadata": {},
   "outputs": [],
   "source": [
    "ecg_n = 4\n",
    "ecg_lowpass_freq = 100\n",
    "\n",
    "r_n = 5\n",
    "r_lowpass_freq = 1\n",
    "\n",
    "gsr_n = 3\n",
    "gsr_lowpass_freq = 2\n",
    "\n",
    "eeg_n = 4\n",
    "eeg_lowpass_freq = 100"
   ]
  },
  {
   "cell_type": "code",
   "execution_count": 37,
   "metadata": {},
   "outputs": [],
   "source": [
    "'''\n",
    "Here we filter data with scipy.signal.buttter() filter. We use different cutoff frequencies as recommended\n",
    "for ecg , r , gsr and eeg in different research papers.\n",
    "\n",
    "'''\n",
    "\n",
    "def filter_data(data):\n",
    "    \n",
    "    filtered_ecg = RCAF_EDA.filter_lowpass(data['ecg'],ecg_lowpass_freq,ecg_n)\n",
    "    filtered_r = RCAF_EDA.filter_lowpass(data['r'],r_lowpass_freq,r_n)\n",
    "    filtered_gsr = RCAF_EDA.filter_lowpass(data['gsr'],gsr_lowpass_freq,gsr_n)\n",
    "    \n",
    "    data['ecg_filtered'] = filtered_ecg\n",
    "    data['r_filtered'] = filtered_r\n",
    "    data['gsr_filtered'] = filtered_gsr\n",
    "    \n",
    "    eeg_features = ['eeg_fp1', 'eeg_f7', 'eeg_f8',\n",
    "       'eeg_t4', 'eeg_t6', 'eeg_t5', 'eeg_t3', 'eeg_fp2', 'eeg_o1', 'eeg_p3',\n",
    "       'eeg_pz', 'eeg_f3', 'eeg_fz', 'eeg_f4', 'eeg_c4', 'eeg_p4', 'eeg_poz',\n",
    "       'eeg_c3', 'eeg_cz', 'eeg_o2']\n",
    "    \n",
    "    for eeg_f in eeg_features:\n",
    "    \n",
    "        filtered_eeg = RCAF_EDA.filter_bycolumnindex(data,eeg_f,eeg_lowpass_freq,eeg_n)\n",
    "\n",
    "        data[eeg_f+'_filtered'] = filtered_eeg\n",
    "    \n",
    "    return data"
   ]
  },
  {
   "cell_type": "code",
   "execution_count": 38,
   "metadata": {},
   "outputs": [],
   "source": [
    "'''\n",
    "\n",
    "This funtion creates features like heart rate and respiration rate.\n",
    "\n",
    "Also features based EEG frequency bands like delta , theta , alpha beta and gamma\n",
    "\n",
    "'''\n",
    "def heartRate_respRate_eegFreqBands(data):\n",
    "    \n",
    "    data_hr = RCAF_Featurization.ecg_heart_rate(data,'LOFT')\n",
    "    \n",
    "    data_rr = RCAF_Featurization.respiration_rate(data_hr,'LOFT')\n",
    "    \n",
    "    data_eeg_freqband = RCAF_Featurization.eeg_freqbands(data_rr,'LOFT')\n",
    "    \n",
    "    return data_eeg_freqband"
   ]
  },
  {
   "cell_type": "code",
   "execution_count": 39,
   "metadata": {},
   "outputs": [],
   "source": [
    "'''\n",
    "In this fucntion we create eeg tracks from different eeg point like from top to bottom in left and right part\n",
    "\n",
    "of the skull and left to right.\n",
    "\n",
    "Also we create ecg , r and gsr moving averages which average of last 10 indices.\n",
    "\n",
    "'''\n",
    "def eegTraces_and_moving_averages(data):\n",
    "    \n",
    "    data_eeg_traces = RCAF_Featurization.create_eeg_traces(data)\n",
    "    \n",
    "    data_ecg_avg = RCAF_Featurization.ecg_moving_average(data_eeg_traces,'LOFT')\n",
    "    \n",
    "    data_r_avg = RCAF_Featurization.r_moving_average(data_ecg_avg,'LOFT')\n",
    "    \n",
    "    data_gsr_avg = RCAF_Featurization.gsr_moving_average(data_r_avg,'LOFT')\n",
    "    \n",
    "    \n",
    "    return data_gsr_avg"
   ]
  },
  {
   "cell_type": "code",
   "execution_count": 40,
   "metadata": {},
   "outputs": [],
   "source": [
    "'''\n",
    "This function calls creates takes peaks indices returned from sipy.signal.find_peaks() function and \n",
    "then we label all the indices have peak as 1 and others as 0.\n",
    "\n",
    "'''\n",
    "\n",
    "def peak_features(data):\n",
    "    \n",
    "    data_ecg_peaks = RCAF_Featurization.signal_peak_ecg(data,'LOFT')\n",
    "    data_r_peaks = RCAF_Featurization.signal_peak_r(data_ecg_peaks,'LOFT')\n",
    "    data_gsr_peaks = RCAF_Featurization.signal_peak_gsr(data_r_peaks,'LOFT')\n",
    "    \n",
    "    data_gsr_peaks = data_gsr_peaks.sort_index()\n",
    "    \n",
    "    return data_gsr_peaks"
   ]
  },
  {
   "cell_type": "code",
   "execution_count": 2,
   "metadata": {},
   "outputs": [],
   "source": [
    "'''\n",
    "create_feature function takes fileterd signals data and calls all the functions for creating new features.\n",
    "\n",
    "'''\n",
    "\n",
    "def create_features(data):\n",
    "    \n",
    "    data_feature_set1 = eegTraces_and_moving_averages(data)\n",
    "    \n",
    "    data_feature_set2 = peak_features(data_feature_set1)\n",
    "    \n",
    "    data_feature_set3 = heartRate_respRate_eegFreqBands(data_feature_set2)\n",
    "    \n",
    "    return data_feature_set3    "
   ]
  },
  {
   "cell_type": "code",
   "execution_count": 3,
   "metadata": {},
   "outputs": [],
   "source": [
    "'''\n",
    "This function converts encoded labels back to the original form.\n",
    "\n",
    "'''\n",
    "def decode_pred_Vals(arr):\n",
    "    \n",
    "    dec = []\n",
    "    \n",
    "    for val in arr:\n",
    "        \n",
    "        if (val==0):\n",
    "            \n",
    "            dec.append('A')\n",
    "            \n",
    "        elif(val==1):\n",
    "            \n",
    "            dec.append('B')\n",
    "            \n",
    "        elif(val==2):\n",
    "            \n",
    "            dec.append('C')\n",
    "            \n",
    "        elif(val==3):\n",
    "            \n",
    "            dec.append('D')\n",
    "            \n",
    "    return dec"
   ]
  },
  {
   "cell_type": "code",
   "execution_count": 1,
   "metadata": {},
   "outputs": [],
   "source": [
    "'''\n",
    "Pipeline function which takes raw data and gives predicted label.\n",
    "It calls all the fucntions listed above for data prepocessing , feature careation and predicting with best model.\n",
    "\n",
    "'''\n",
    "\n",
    "def pipeline(query_data):\n",
    "    \n",
    "    ############# Test Data preprocessing #################################################\n",
    "    query_data = pd.DataFrame(query_data)\n",
    "    \n",
    "    filtered_data = filter_data(query_data)\n",
    "    \n",
    "    filtered_data.drop(['eeg_fp1', 'eeg_f7', 'eeg_f8',\n",
    "       'eeg_t4', 'eeg_t6', 'eeg_t5', 'eeg_t3', 'eeg_fp2', 'eeg_o1', 'eeg_p3',\n",
    "       'eeg_pz', 'eeg_f3', 'eeg_fz', 'eeg_f4', 'eeg_c4', 'eeg_p4', 'eeg_poz',\n",
    "       'eeg_c3', 'eeg_cz', 'eeg_o2', 'ecg', 'r', 'gsr'],axis=1,inplace=True)\n",
    "    \n",
    "    \n",
    "    ############# Featurization ###########################################################\n",
    "    \n",
    "    data_with_crafted_features = create_features(filtered_data)\n",
    "    \n",
    "    data_with_crafted_features.drop(['id','crew','experiment'],axis=1,inplace=True)\n",
    "    \n",
    "    data_with_crafted_features = data_with_crafted_features.sort_index()\n",
    "    \n",
    "    data_temp = data_with_crafted_features.loc[:, ['seat','has_r_peak', 'has_ecg_peak','has_gsr_peak']]\n",
    "    data_with_crafted_features.drop(['seat','has_r_peak', 'has_ecg_peak','has_gsr_peak'],axis=1,inplace=True)\n",
    "    \n",
    "    \n",
    "    ############# Normalizing data ###################################################################\n",
    "    \n",
    "    scaler = StandardScaler()\n",
    "    \n",
    "    data_std = scaler.fit_transform(data_with_crafted_features)\n",
    "\n",
    "    data_std_ = pd.DataFrame(data=data_std,columns=list(data_with_crafted_features.columns))\n",
    "    \n",
    "    data_model_ready = pd.concat([data_temp,data_std_],axis=1)\n",
    "    \n",
    "    data_model_ready['seat'] = data_model_ready['seat'].astype('int')\n",
    "    data_model_ready['has_r_peak'] = data_model_ready['has_r_peak'].astype('int')\n",
    "    data_model_ready['has_ecg_peak'] = data_model_ready['has_ecg_peak'].astype('int')\n",
    "    data_model_ready['has_gsr_peak'] = data_model_ready['has_gsr_peak'].astype('int')\n",
    "    \n",
    "    ############# Predicton using best model ########################################################\n",
    "    \n",
    "    pred_val = best_model.predict(data_model_ready)\n",
    "    \n",
    "    ############# Labels decoding ###################################################################\n",
    "    \n",
    "    predictions = decode_pred_Vals(pred_val)\n",
    "    \n",
    "    return predictions   "
   ]
  },
  {
   "cell_type": "code",
   "execution_count": 80,
   "metadata": {},
   "outputs": [],
   "source": [
    "predicted_value = pipeline(sub_test_data)"
   ]
  },
  {
   "cell_type": "code",
   "execution_count": 82,
   "metadata": {},
   "outputs": [
    {
     "name": "stdout",
     "output_type": "stream",
     "text": [
      "A\n",
      "D\n",
      "C\n"
     ]
    }
   ],
   "source": [
    "print(predicted_value[200])\n",
    "print(predicted_value[508])\n",
    "print(predicted_value[715])"
   ]
  },
  {
   "cell_type": "code",
   "execution_count": null,
   "metadata": {},
   "outputs": [],
   "source": []
  }
 ],
 "metadata": {
  "kernelspec": {
   "display_name": "Python 3",
   "language": "python",
   "name": "python3"
  },
  "language_info": {
   "codemirror_mode": {
    "name": "ipython",
    "version": 3
   },
   "file_extension": ".py",
   "mimetype": "text/x-python",
   "name": "python",
   "nbconvert_exporter": "python",
   "pygments_lexer": "ipython3",
   "version": "3.8.3"
  }
 },
 "nbformat": 4,
 "nbformat_minor": 4
}
