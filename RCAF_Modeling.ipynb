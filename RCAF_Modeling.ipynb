{
 "cells": [
  {
   "cell_type": "code",
   "execution_count": 37,
   "metadata": {},
   "outputs": [],
   "source": [
    "import pandas as pd\n",
    "import numpy as np\n",
    "import seaborn as sns\n",
    "import matplotlib.pyplot as plt\n",
    "from sklearn.model_selection import train_test_split\n",
    "from sklearn.linear_model import LogisticRegression\n",
    "from sklearn.ensemble import RandomForestClassifier\n",
    "import pickle\n",
    "from sklearn.preprocessing import LabelEncoder\n",
    "from sklearn.model_selection import TimeSeriesSplit\n",
    "from sklearn.metrics import log_loss\n",
    "from sklearn.calibration import CalibratedClassifierCV\n",
    "from xgboost import XGBClassifier\n",
    "import lightgbm as lgbm\n",
    "from sklearn.model_selection import RandomizedSearchCV\n",
    "from sklearn import decomposition\n",
    "from sklearn.tree import DecisionTreeClassifier\n",
    "from sklearn.neighbors import KNeighborsClassifier\n",
    "from sklearn.naive_bayes import GaussianNB\n",
    "from sklearn.svm import SVC\n",
    "import lightgbm as lgbm\n",
    "from sklearn.model_selection import RandomizedSearchCV\n",
    "from sklearn.preprocessing import StandardScaler\n",
    "import warnings\n",
    "from tqdm import tqdm\n",
    "warnings.filterwarnings(\"ignore\")"
   ]
  },
  {
   "cell_type": "code",
   "execution_count": 2,
   "metadata": {},
   "outputs": [],
   "source": [
    "train_data_ = pickle.load(open('train_data/train_data_new', 'rb'))"
   ]
  },
  {
   "cell_type": "code",
   "execution_count": 5,
   "metadata": {},
   "outputs": [
    {
     "data": {
      "text/html": [
       "<div>\n",
       "<style scoped>\n",
       "    .dataframe tbody tr th:only-of-type {\n",
       "        vertical-align: middle;\n",
       "    }\n",
       "\n",
       "    .dataframe tbody tr th {\n",
       "        vertical-align: top;\n",
       "    }\n",
       "\n",
       "    .dataframe thead th {\n",
       "        text-align: right;\n",
       "    }\n",
       "</style>\n",
       "<table border=\"1\" class=\"dataframe\">\n",
       "  <thead>\n",
       "    <tr style=\"text-align: right;\">\n",
       "      <th></th>\n",
       "      <th>crew</th>\n",
       "      <th>experiment</th>\n",
       "      <th>seat</th>\n",
       "      <th>has_r_peak</th>\n",
       "      <th>has_ecg_peak</th>\n",
       "      <th>has_gsr_peak</th>\n",
       "      <th>event</th>\n",
       "      <th>time</th>\n",
       "      <th>eeg_fp1_filtered</th>\n",
       "      <th>eeg_f7_filtered</th>\n",
       "      <th>...</th>\n",
       "      <th>t5-p3-pz-p4-t6theta</th>\n",
       "      <th>t5-p3-pz-p4-t6alpha_low</th>\n",
       "      <th>t5-p3-pz-p4-t6alpha_high</th>\n",
       "      <th>t5-p3-pz-p4-t6beta</th>\n",
       "      <th>t5-p3-pz-p4-t6gamma</th>\n",
       "      <th>o1-o2theta</th>\n",
       "      <th>o1-o2alpha_low</th>\n",
       "      <th>o1-o2alpha_high</th>\n",
       "      <th>o1-o2beta</th>\n",
       "      <th>o1-o2gamma</th>\n",
       "    </tr>\n",
       "  </thead>\n",
       "  <tbody>\n",
       "    <tr>\n",
       "      <th>0</th>\n",
       "      <td>1</td>\n",
       "      <td>CA</td>\n",
       "      <td>1</td>\n",
       "      <td>0</td>\n",
       "      <td>0</td>\n",
       "      <td>0</td>\n",
       "      <td>A</td>\n",
       "      <td>-1.714367</td>\n",
       "      <td>-0.263545</td>\n",
       "      <td>0.926641</td>\n",
       "      <td>...</td>\n",
       "      <td>-0.273852</td>\n",
       "      <td>-0.354617</td>\n",
       "      <td>-0.192741</td>\n",
       "      <td>-0.369647</td>\n",
       "      <td>-0.333646</td>\n",
       "      <td>0.528167</td>\n",
       "      <td>-1.048651</td>\n",
       "      <td>-0.590283</td>\n",
       "      <td>-0.240193</td>\n",
       "      <td>-0.020438</td>\n",
       "    </tr>\n",
       "    <tr>\n",
       "      <th>1</th>\n",
       "      <td>1</td>\n",
       "      <td>CA</td>\n",
       "      <td>1</td>\n",
       "      <td>0</td>\n",
       "      <td>0</td>\n",
       "      <td>0</td>\n",
       "      <td>A</td>\n",
       "      <td>-1.714329</td>\n",
       "      <td>-0.177267</td>\n",
       "      <td>1.004332</td>\n",
       "      <td>...</td>\n",
       "      <td>-0.270346</td>\n",
       "      <td>-0.306602</td>\n",
       "      <td>-0.149310</td>\n",
       "      <td>-0.375325</td>\n",
       "      <td>-0.327312</td>\n",
       "      <td>0.528217</td>\n",
       "      <td>-1.057778</td>\n",
       "      <td>-0.597163</td>\n",
       "      <td>-0.240114</td>\n",
       "      <td>-0.019782</td>\n",
       "    </tr>\n",
       "    <tr>\n",
       "      <th>2</th>\n",
       "      <td>1</td>\n",
       "      <td>CA</td>\n",
       "      <td>1</td>\n",
       "      <td>0</td>\n",
       "      <td>0</td>\n",
       "      <td>0</td>\n",
       "      <td>A</td>\n",
       "      <td>-1.714292</td>\n",
       "      <td>0.201824</td>\n",
       "      <td>1.031278</td>\n",
       "      <td>...</td>\n",
       "      <td>-0.261147</td>\n",
       "      <td>-0.212327</td>\n",
       "      <td>-0.062987</td>\n",
       "      <td>-0.382288</td>\n",
       "      <td>-0.315450</td>\n",
       "      <td>0.528216</td>\n",
       "      <td>-1.057227</td>\n",
       "      <td>-0.596747</td>\n",
       "      <td>-0.240121</td>\n",
       "      <td>-0.019822</td>\n",
       "    </tr>\n",
       "    <tr>\n",
       "      <th>3</th>\n",
       "      <td>1</td>\n",
       "      <td>CA</td>\n",
       "      <td>1</td>\n",
       "      <td>0</td>\n",
       "      <td>0</td>\n",
       "      <td>0</td>\n",
       "      <td>A</td>\n",
       "      <td>-1.714254</td>\n",
       "      <td>0.214679</td>\n",
       "      <td>0.913735</td>\n",
       "      <td>...</td>\n",
       "      <td>-0.260542</td>\n",
       "      <td>-0.206861</td>\n",
       "      <td>-0.057950</td>\n",
       "      <td>-0.382563</td>\n",
       "      <td>-0.314781</td>\n",
       "      <td>0.528218</td>\n",
       "      <td>-1.059037</td>\n",
       "      <td>-0.598115</td>\n",
       "      <td>-0.240097</td>\n",
       "      <td>-0.019691</td>\n",
       "    </tr>\n",
       "    <tr>\n",
       "      <th>4</th>\n",
       "      <td>1</td>\n",
       "      <td>CA</td>\n",
       "      <td>1</td>\n",
       "      <td>0</td>\n",
       "      <td>0</td>\n",
       "      <td>0</td>\n",
       "      <td>A</td>\n",
       "      <td>-1.714217</td>\n",
       "      <td>0.128852</td>\n",
       "      <td>0.875913</td>\n",
       "      <td>...</td>\n",
       "      <td>-0.269551</td>\n",
       "      <td>-0.297204</td>\n",
       "      <td>-0.140760</td>\n",
       "      <td>-0.376241</td>\n",
       "      <td>-0.326098</td>\n",
       "      <td>0.528136</td>\n",
       "      <td>-1.073101</td>\n",
       "      <td>-0.608798</td>\n",
       "      <td>-0.239813</td>\n",
       "      <td>-0.018671</td>\n",
       "    </tr>\n",
       "  </tbody>\n",
       "</table>\n",
       "<p>5 rows × 196 columns</p>\n",
       "</div>"
      ],
      "text/plain": [
       "  crew experiment seat has_r_peak has_ecg_peak has_gsr_peak event      time  \\\n",
       "0    1         CA    1          0            0            0     A -1.714367   \n",
       "1    1         CA    1          0            0            0     A -1.714329   \n",
       "2    1         CA    1          0            0            0     A -1.714292   \n",
       "3    1         CA    1          0            0            0     A -1.714254   \n",
       "4    1         CA    1          0            0            0     A -1.714217   \n",
       "\n",
       "   eeg_fp1_filtered  eeg_f7_filtered  ...  t5-p3-pz-p4-t6theta  \\\n",
       "0         -0.263545         0.926641  ...            -0.273852   \n",
       "1         -0.177267         1.004332  ...            -0.270346   \n",
       "2          0.201824         1.031278  ...            -0.261147   \n",
       "3          0.214679         0.913735  ...            -0.260542   \n",
       "4          0.128852         0.875913  ...            -0.269551   \n",
       "\n",
       "   t5-p3-pz-p4-t6alpha_low  t5-p3-pz-p4-t6alpha_high  t5-p3-pz-p4-t6beta  \\\n",
       "0                -0.354617                 -0.192741           -0.369647   \n",
       "1                -0.306602                 -0.149310           -0.375325   \n",
       "2                -0.212327                 -0.062987           -0.382288   \n",
       "3                -0.206861                 -0.057950           -0.382563   \n",
       "4                -0.297204                 -0.140760           -0.376241   \n",
       "\n",
       "   t5-p3-pz-p4-t6gamma  o1-o2theta  o1-o2alpha_low  o1-o2alpha_high  \\\n",
       "0            -0.333646    0.528167       -1.048651        -0.590283   \n",
       "1            -0.327312    0.528217       -1.057778        -0.597163   \n",
       "2            -0.315450    0.528216       -1.057227        -0.596747   \n",
       "3            -0.314781    0.528218       -1.059037        -0.598115   \n",
       "4            -0.326098    0.528136       -1.073101        -0.608798   \n",
       "\n",
       "   o1-o2beta  o1-o2gamma  \n",
       "0  -0.240193   -0.020438  \n",
       "1  -0.240114   -0.019782  \n",
       "2  -0.240121   -0.019822  \n",
       "3  -0.240097   -0.019691  \n",
       "4  -0.239813   -0.018671  \n",
       "\n",
       "[5 rows x 196 columns]"
      ]
     },
     "execution_count": 5,
     "metadata": {},
     "output_type": "execute_result"
    }
   ],
   "source": [
    "train_data_.head()"
   ]
  },
  {
   "cell_type": "code",
   "execution_count": 6,
   "metadata": {},
   "outputs": [
    {
     "data": {
      "text/plain": [
       "(4867421, 196)"
      ]
     },
     "execution_count": 6,
     "metadata": {},
     "output_type": "execute_result"
    }
   ],
   "source": [
    "train_data_.shape"
   ]
  },
  {
   "cell_type": "code",
   "execution_count": 7,
   "metadata": {},
   "outputs": [
    {
     "data": {
      "text/html": [
       "<div>\n",
       "<style scoped>\n",
       "    .dataframe tbody tr th:only-of-type {\n",
       "        vertical-align: middle;\n",
       "    }\n",
       "\n",
       "    .dataframe tbody tr th {\n",
       "        vertical-align: top;\n",
       "    }\n",
       "\n",
       "    .dataframe thead th {\n",
       "        text-align: right;\n",
       "    }\n",
       "</style>\n",
       "<table border=\"1\" class=\"dataframe\">\n",
       "  <thead>\n",
       "    <tr style=\"text-align: right;\">\n",
       "      <th></th>\n",
       "      <th>crew</th>\n",
       "      <th>experiment</th>\n",
       "      <th>seat</th>\n",
       "      <th>has_r_peak</th>\n",
       "      <th>has_ecg_peak</th>\n",
       "      <th>has_gsr_peak</th>\n",
       "      <th>event</th>\n",
       "      <th>time</th>\n",
       "      <th>eeg_fp1_filtered</th>\n",
       "      <th>eeg_f7_filtered</th>\n",
       "      <th>...</th>\n",
       "      <th>t5-p3-pz-p4-t6theta</th>\n",
       "      <th>t5-p3-pz-p4-t6alpha_low</th>\n",
       "      <th>t5-p3-pz-p4-t6alpha_high</th>\n",
       "      <th>t5-p3-pz-p4-t6beta</th>\n",
       "      <th>t5-p3-pz-p4-t6gamma</th>\n",
       "      <th>o1-o2theta</th>\n",
       "      <th>o1-o2alpha_low</th>\n",
       "      <th>o1-o2alpha_high</th>\n",
       "      <th>o1-o2beta</th>\n",
       "      <th>o1-o2gamma</th>\n",
       "    </tr>\n",
       "  </thead>\n",
       "  <tbody>\n",
       "    <tr>\n",
       "      <th>0</th>\n",
       "      <td>1</td>\n",
       "      <td>CA</td>\n",
       "      <td>1</td>\n",
       "      <td>0</td>\n",
       "      <td>0</td>\n",
       "      <td>0</td>\n",
       "      <td>A</td>\n",
       "      <td>-1.714367</td>\n",
       "      <td>-0.263545</td>\n",
       "      <td>0.926641</td>\n",
       "      <td>...</td>\n",
       "      <td>-0.273852</td>\n",
       "      <td>-0.354617</td>\n",
       "      <td>-0.192741</td>\n",
       "      <td>-0.369647</td>\n",
       "      <td>-0.333646</td>\n",
       "      <td>0.528167</td>\n",
       "      <td>-1.048651</td>\n",
       "      <td>-0.590283</td>\n",
       "      <td>-0.240193</td>\n",
       "      <td>-0.020438</td>\n",
       "    </tr>\n",
       "    <tr>\n",
       "      <th>1</th>\n",
       "      <td>1</td>\n",
       "      <td>CA</td>\n",
       "      <td>1</td>\n",
       "      <td>0</td>\n",
       "      <td>0</td>\n",
       "      <td>0</td>\n",
       "      <td>A</td>\n",
       "      <td>-1.714329</td>\n",
       "      <td>-0.177267</td>\n",
       "      <td>1.004332</td>\n",
       "      <td>...</td>\n",
       "      <td>-0.270346</td>\n",
       "      <td>-0.306602</td>\n",
       "      <td>-0.149310</td>\n",
       "      <td>-0.375325</td>\n",
       "      <td>-0.327312</td>\n",
       "      <td>0.528217</td>\n",
       "      <td>-1.057778</td>\n",
       "      <td>-0.597163</td>\n",
       "      <td>-0.240114</td>\n",
       "      <td>-0.019782</td>\n",
       "    </tr>\n",
       "    <tr>\n",
       "      <th>2</th>\n",
       "      <td>1</td>\n",
       "      <td>CA</td>\n",
       "      <td>1</td>\n",
       "      <td>0</td>\n",
       "      <td>0</td>\n",
       "      <td>0</td>\n",
       "      <td>A</td>\n",
       "      <td>-1.714292</td>\n",
       "      <td>0.201824</td>\n",
       "      <td>1.031278</td>\n",
       "      <td>...</td>\n",
       "      <td>-0.261147</td>\n",
       "      <td>-0.212327</td>\n",
       "      <td>-0.062987</td>\n",
       "      <td>-0.382288</td>\n",
       "      <td>-0.315450</td>\n",
       "      <td>0.528216</td>\n",
       "      <td>-1.057227</td>\n",
       "      <td>-0.596747</td>\n",
       "      <td>-0.240121</td>\n",
       "      <td>-0.019822</td>\n",
       "    </tr>\n",
       "    <tr>\n",
       "      <th>3</th>\n",
       "      <td>1</td>\n",
       "      <td>CA</td>\n",
       "      <td>1</td>\n",
       "      <td>0</td>\n",
       "      <td>0</td>\n",
       "      <td>0</td>\n",
       "      <td>A</td>\n",
       "      <td>-1.714254</td>\n",
       "      <td>0.214679</td>\n",
       "      <td>0.913735</td>\n",
       "      <td>...</td>\n",
       "      <td>-0.260542</td>\n",
       "      <td>-0.206861</td>\n",
       "      <td>-0.057950</td>\n",
       "      <td>-0.382563</td>\n",
       "      <td>-0.314781</td>\n",
       "      <td>0.528218</td>\n",
       "      <td>-1.059037</td>\n",
       "      <td>-0.598115</td>\n",
       "      <td>-0.240097</td>\n",
       "      <td>-0.019691</td>\n",
       "    </tr>\n",
       "    <tr>\n",
       "      <th>4</th>\n",
       "      <td>1</td>\n",
       "      <td>CA</td>\n",
       "      <td>1</td>\n",
       "      <td>0</td>\n",
       "      <td>0</td>\n",
       "      <td>0</td>\n",
       "      <td>A</td>\n",
       "      <td>-1.714217</td>\n",
       "      <td>0.128852</td>\n",
       "      <td>0.875913</td>\n",
       "      <td>...</td>\n",
       "      <td>-0.269551</td>\n",
       "      <td>-0.297204</td>\n",
       "      <td>-0.140760</td>\n",
       "      <td>-0.376241</td>\n",
       "      <td>-0.326098</td>\n",
       "      <td>0.528136</td>\n",
       "      <td>-1.073101</td>\n",
       "      <td>-0.608798</td>\n",
       "      <td>-0.239813</td>\n",
       "      <td>-0.018671</td>\n",
       "    </tr>\n",
       "  </tbody>\n",
       "</table>\n",
       "<p>5 rows × 196 columns</p>\n",
       "</div>"
      ],
      "text/plain": [
       "  crew experiment seat has_r_peak has_ecg_peak has_gsr_peak event      time  \\\n",
       "0    1         CA    1          0            0            0     A -1.714367   \n",
       "1    1         CA    1          0            0            0     A -1.714329   \n",
       "2    1         CA    1          0            0            0     A -1.714292   \n",
       "3    1         CA    1          0            0            0     A -1.714254   \n",
       "4    1         CA    1          0            0            0     A -1.714217   \n",
       "\n",
       "   eeg_fp1_filtered  eeg_f7_filtered  ...  t5-p3-pz-p4-t6theta  \\\n",
       "0         -0.263545         0.926641  ...            -0.273852   \n",
       "1         -0.177267         1.004332  ...            -0.270346   \n",
       "2          0.201824         1.031278  ...            -0.261147   \n",
       "3          0.214679         0.913735  ...            -0.260542   \n",
       "4          0.128852         0.875913  ...            -0.269551   \n",
       "\n",
       "   t5-p3-pz-p4-t6alpha_low  t5-p3-pz-p4-t6alpha_high  t5-p3-pz-p4-t6beta  \\\n",
       "0                -0.354617                 -0.192741           -0.369647   \n",
       "1                -0.306602                 -0.149310           -0.375325   \n",
       "2                -0.212327                 -0.062987           -0.382288   \n",
       "3                -0.206861                 -0.057950           -0.382563   \n",
       "4                -0.297204                 -0.140760           -0.376241   \n",
       "\n",
       "   t5-p3-pz-p4-t6gamma  o1-o2theta  o1-o2alpha_low  o1-o2alpha_high  \\\n",
       "0            -0.333646    0.528167       -1.048651        -0.590283   \n",
       "1            -0.327312    0.528217       -1.057778        -0.597163   \n",
       "2            -0.315450    0.528216       -1.057227        -0.596747   \n",
       "3            -0.314781    0.528218       -1.059037        -0.598115   \n",
       "4            -0.326098    0.528136       -1.073101        -0.608798   \n",
       "\n",
       "   o1-o2beta  o1-o2gamma  \n",
       "0  -0.240193   -0.020438  \n",
       "1  -0.240114   -0.019782  \n",
       "2  -0.240121   -0.019822  \n",
       "3  -0.240097   -0.019691  \n",
       "4  -0.239813   -0.018671  \n",
       "\n",
       "[5 rows x 196 columns]"
      ]
     },
     "execution_count": 7,
     "metadata": {},
     "output_type": "execute_result"
    }
   ],
   "source": [
    "train_data_.head()"
   ]
  },
  {
   "cell_type": "code",
   "execution_count": 8,
   "metadata": {},
   "outputs": [],
   "source": [
    "def encode_Var(arr):\n",
    "    enc = []\n",
    "    for val in arr:\n",
    "        \n",
    "        if (val=='A'):\n",
    "            \n",
    "            enc.append(0)\n",
    "            \n",
    "        elif(val=='B'):\n",
    "            \n",
    "            enc.append(1)\n",
    "        elif(val=='C'):\n",
    "            \n",
    "            enc.append(2)\n",
    "        elif(val=='D'):\n",
    "            \n",
    "            enc.append(3)\n",
    "    return enc"
   ]
  },
  {
   "cell_type": "code",
   "execution_count": 9,
   "metadata": {},
   "outputs": [],
   "source": [
    "encoded_vals = encode_Var(np.asarray(train_data_['event']))"
   ]
  },
  {
   "cell_type": "code",
   "execution_count": 10,
   "metadata": {},
   "outputs": [],
   "source": [
    "train_data_['encoded_event'] = encoded_vals"
   ]
  },
  {
   "cell_type": "markdown",
   "metadata": {},
   "source": [
    "### Removing crew, experiment and event from trainable features."
   ]
  },
  {
   "cell_type": "code",
   "execution_count": 12,
   "metadata": {},
   "outputs": [],
   "source": [
    "y = train_data_['encoded_event']"
   ]
  },
  {
   "cell_type": "code",
   "execution_count": 13,
   "metadata": {},
   "outputs": [],
   "source": [
    "train_data_.drop(['crew','event','experiment','encoded_event'],axis=1,inplace=True)"
   ]
  },
  {
   "cell_type": "code",
   "execution_count": 15,
   "metadata": {},
   "outputs": [],
   "source": [
    "train_data_['seat'] = train_data_['seat'].astype('int')\n",
    "train_data_['has_r_peak'] = train_data_['has_r_peak'].astype('int')\n",
    "train_data_['has_ecg_peak'] = train_data_['has_ecg_peak'].astype('int')\n",
    "train_data_['has_gsr_peak'] = train_data_['has_gsr_peak'].astype('int')"
   ]
  },
  {
   "cell_type": "code",
   "execution_count": 41,
   "metadata": {},
   "outputs": [],
   "source": [
    "pickle.dump(test_data_, open('test_data/test_data_newfeatures', 'wb'))"
   ]
  },
  {
   "cell_type": "code",
   "execution_count": 24,
   "metadata": {},
   "outputs": [],
   "source": [
    "test_data_ = pickle.load(open('test_data/test_data_newfeatures', 'rb'))"
   ]
  },
  {
   "cell_type": "code",
   "execution_count": 16,
   "metadata": {},
   "outputs": [],
   "source": [
    "x_train, x_cv, y_train, y_cv = train_test_split(train_data_, y, test_size=0.25, stratify=y)"
   ]
  },
  {
   "cell_type": "markdown",
   "metadata": {},
   "source": [
    "## Splitting data into train and cross validation using TimeSeriesSplit() in each experiment"
   ]
  },
  {
   "cell_type": "code",
   "execution_count": 263,
   "metadata": {},
   "outputs": [],
   "source": [
    "# https://scikit-learn.org/stable/modules/generated/sklearn.model_selection.TimeSeriesSplit.html\n",
    "\n",
    "exp = ['CA','DA','SS']\n",
    "tscv = TimeSeriesSplit(n_splits=2)\n",
    "\n",
    "features = list(train_data_.columns)\n",
    "x_train = pd.DataFrame(columns=features)\n",
    "x_cv = pd.DataFrame(columns=features)\n",
    "\n",
    "for e in exp:\n",
    "    \n",
    "    data_for_split = train_data_[(train_data_.experiment == e)].copy()\n",
    "    \n",
    "    for train_index, cv_index in tscv.split(data_for_split):\n",
    "        x_tr, x_te = data_for_split.iloc[train_index], data_for_split.iloc[cv_index]\n",
    "    \n",
    "    x_train = pd.concat([x_train,x_tr])\n",
    "    x_cv = pd.concat([x_cv,x_te])\n",
    "    "
   ]
  },
  {
   "cell_type": "code",
   "execution_count": null,
   "metadata": {},
   "outputs": [],
   "source": []
  },
  {
   "cell_type": "markdown",
   "metadata": {},
   "source": [
    "## Random Model"
   ]
  },
  {
   "cell_type": "code",
   "execution_count": 19,
   "metadata": {},
   "outputs": [
    {
     "name": "stdout",
     "output_type": "stream",
     "text": [
      "Random Model Train logloss:  1.6453499132639418\n",
      "Random Model cv logloss:  1.6460736775749176\n"
     ]
    }
   ],
   "source": [
    "ls = []\n",
    "for i in range(0,x_train.shape[0]):\n",
    "    ls_ = []\n",
    "    rand_probs = np.random.rand(1,4)\n",
    "    for prob in rand_probs[0]:\n",
    "        val = prob/sum(rand_probs[0])\n",
    "        ls_.append(val)\n",
    "    ls.append(ls_)\n",
    "\n",
    "rand_pred = np.asarray(ls)\n",
    "\n",
    "ls = []\n",
    "for i in range(0,x_cv.shape[0]):\n",
    "    ls_ = []\n",
    "    rand_probs = np.random.rand(1,4)\n",
    "    for prob in rand_probs[0]:\n",
    "        val = prob/sum(rand_probs[0])\n",
    "        ls_.append(val)\n",
    "    ls.append(ls_)\n",
    "\n",
    "rand_pred_cv = np.asarray(ls)\n",
    "\n",
    "print(\"Random Model Train logloss: \",log_loss(y_train,rand_pred))\n",
    "print(\"Random Model cv logloss: \",log_loss(y_cv,rand_pred_cv))"
   ]
  },
  {
   "cell_type": "code",
   "execution_count": null,
   "metadata": {},
   "outputs": [],
   "source": []
  },
  {
   "cell_type": "markdown",
   "metadata": {},
   "source": [
    "## Logistic Regression"
   ]
  },
  {
   "cell_type": "code",
   "execution_count": 16,
   "metadata": {},
   "outputs": [
    {
     "name": "stdout",
     "output_type": "stream",
     "text": [
      "For alpha:  0.001\n",
      "Train logloss:  0.2323471487581512\n",
      "CV logloss:  0.2323913465915608\n",
      "*********************************************\n",
      "For alpha:  0.01\n",
      "Train logloss:  0.2306172412503145\n",
      "CV logloss:  0.23071645530426088\n",
      "*********************************************\n",
      "For alpha:  0.1\n",
      "Train logloss:  0.2304177631267852\n",
      "CV logloss:  0.23051943067457187\n",
      "*********************************************\n"
     ]
    }
   ],
   "source": [
    "C=[.001,.01,.1]\n",
    "for i in C:\n",
    "    clf = LogisticRegression(C=i)\n",
    "    clf.fit(x_train,y_train)\n",
    "    \n",
    "    pickle.dump(clf, open('LR_model_'+str(i), 'wb'))\n",
    "    \n",
    "    y_pred_train = clf.predict_proba(x_train)\n",
    "    y_pred_cv = clf.predict_proba(x_cv)\n",
    "    print(\"For alpha: \",i)\n",
    "    print(\"Train logloss: \",log_loss(y_train,y_pred_train))\n",
    "    print(\"CV logloss: \",log_loss(y_cv,y_pred_cv))\n",
    "    print(\"*********************************************\")"
   ]
  },
  {
   "cell_type": "markdown",
   "metadata": {},
   "source": [
    "## Random Forest"
   ]
  },
  {
   "cell_type": "code",
   "execution_count": 29,
   "metadata": {},
   "outputs": [
    {
     "name": "stdout",
     "output_type": "stream",
     "text": [
      "For alpha:  30\n",
      "Train logloss:  0.021732641224348193\n",
      "CV logloss:  0.05978690284047972\n",
      "*********************************************\n",
      "For alpha:  50\n",
      "Train logloss:  0.02113017660463825\n",
      "CV logloss:  0.05845845906898043\n",
      "*********************************************\n"
     ]
    }
   ],
   "source": [
    "alpha=[30,50]\n",
    "for i in alpha:\n",
    "    rf_cfl=RandomForestClassifier(n_estimators=i,max_depth=50,n_jobs=-1)\n",
    "    rf_cfl.fit(x_train,y_train)\n",
    "    pickle.dump(rf_cfl, open('rf_model_'+str(i), 'wb'))\n",
    "    \n",
    "    y_pred_train = rf_cfl.predict_proba(x_train)\n",
    "    y_pred_cv = rf_cfl.predict_proba(x_cv)\n",
    "    print(\"For alpha: \",i)\n",
    "    print(\"Train logloss: \",log_loss(y_train,y_pred_train))\n",
    "    print(\"CV logloss: \",log_loss(y_cv,y_pred_cv))\n",
    "    print(\"*********************************************\")"
   ]
  },
  {
   "cell_type": "code",
   "execution_count": 48,
   "metadata": {},
   "outputs": [
    {
     "data": {
      "image/png": "[encoded data removed]",
      "text/plain": [
       "<Figure size 504x432 with 1 Axes>"
      ]
     },
     "metadata": {
      "needs_background": "light"
     },
     "output_type": "display_data"
    }
   ],
   "source": [
    "\n",
    "features = x_train.columns\n",
    "importances = rf_cfl.feature_importances_\n",
    "indices = (np.argsort(importances))[-15:]\n",
    "plt.figure(figsize=(7,6))\n",
    "plt.title('Feature Importances')\n",
    "plt.barh(range(len(indices)), importances[indices], color='b', align='center')\n",
    "plt.yticks(range(len(indices)), [features[i] for i in indices])\n",
    "plt.xlabel('Relative Importance')\n",
    "plt.show()"
   ]
  },
  {
   "cell_type": "code",
   "execution_count": 42,
   "metadata": {},
   "outputs": [],
   "source": [
    "important_features = []\n",
    "for i in indices:\n",
    "    important_features.append(features[i])"
   ]
  },
  {
   "cell_type": "code",
   "execution_count": 43,
   "metadata": {},
   "outputs": [
    {
     "name": "stdout",
     "output_type": "stream",
     "text": [
      "['fp1-fp2theta', 'eeg_t3_filteredbeta', 't5-p3-pz-p4-t6theta', 'fp1-f3-c3-p3-o1gamma', 'eeg_t5_filteredgamma', 'eeg_fp2_filteredgamma', 'eeg_fz_filteredalpha_low', 't5-p3-pz-p4-t6gamma', 'eeg_f4_filteredtheta', 'fp2-f4-c4-p4-o2theta', 'eeg_o2_filteredtheta', 'eeg_poz_filteredgamma', 'eeg_f3_filteredtheta', 'fz-cz-pztheta', 'eeg_f8_filteredalpha_high', 'o1-o2theta', 'fp1-f3-c3-p3-o1beta', 'eeg_cz_filteredgamma', 'eeg_f7_filteredgamma', 't3-c3-cz-c4-t4gamma', 'gsr_moving_average', 'gsr_filtered', 'fp1-f3-c3-p3-o1theta', 'eeg_t4_filteredalpha_high', 'eeg_t4_filteredalpha_low', 'eeg_o1_filteredgamma', 'eeg_pz_filteredgamma', 'respiration rate', 'eeg_poz_filteredtheta', 'time']\n"
     ]
    }
   ],
   "source": [
    "print(important_features)"
   ]
  },
  {
   "cell_type": "markdown",
   "metadata": {},
   "source": [
    "## So the crafted features like EEG frequency bands , respiration rate and gsr_moving_average are in top 30 features. "
   ]
  },
  {
   "cell_type": "markdown",
   "metadata": {},
   "source": [
    "## XGBoost"
   ]
  },
  {
   "cell_type": "code",
   "execution_count": null,
   "metadata": {
    "colab": {
     "base_uri": "https://localhost:8080/"
    },
    "id": "aWCpx536ckQO",
    "outputId": "bd03aa11-b598-4a44-bf9e-0dd291163939"
   },
   "outputs": [
    {
     "name": "stdout",
     "output_type": "stream",
     "text": [
      "Train logloss:  0.8417951182069895\n",
      "CV logloss:  0.926310529125779\n"
     ]
    }
   ],
   "source": [
    "alpha=[100]\n",
    "\n",
    "for i in alpha:\n",
    "    xgb_cfl=XGBClassifier(n_estimators=i,max_depth=5,colsample_bytree=0.7,nthread=-1)\n",
    "    xgb_cfl.fit(x_train,y_train)\n",
    "    \n",
    "    \n",
    "    xgb_calib_clf = CalibratedClassifierCV(xgb_cfl, method=\"sigmoid\")\n",
    "    xgb_calib_clf.fit(x_train, y_train)\n",
    "\n",
    "    pickle.dump(xgb_cfl, open('xgb_model_calib_'+str(i), 'wb'))\n",
    "\n",
    "    y_pred_train = xgb_calib_clf.predict_proba(x_train)\n",
    "    y_pred_cv = xgb_calib_clf.predict_proba(x_cv)\n",
    "    print(\"Train logloss: \",log_loss(y_train,y_pred_train))\n",
    "    print(\"CV logloss: \",log_loss(y_cv,y_pred_cv))\n"
   ]
  },
  {
   "cell_type": "code",
   "execution_count": 15,
   "metadata": {},
   "outputs": [],
   "source": [
    "alpha = 300\n",
    "xgb_cfl=XGBClassifier(n_estimators=alpha,max_depth=5,colsample_bytree=0.7,nthread=-1)\n",
    "xgb_cfl.fit(x_train,y_train)\n"
   ]
  },
  {
   "cell_type": "code",
   "execution_count": 16,
   "metadata": {},
   "outputs": [],
   "source": [
    "pickle.dump(xgb_cfl, open('xgb_model_300', 'wb'))"
   ]
  },
  {
   "cell_type": "code",
   "execution_count": 17,
   "metadata": {},
   "outputs": [
    {
     "name": "stdout",
     "output_type": "stream",
     "text": [
      "Train logloss:  0.6493812944203944\n",
      "CV logloss:  0.8182311041460716\n"
     ]
    }
   ],
   "source": [
    "xgb_calib_clf = CalibratedClassifierCV(xgb_cfl, method=\"isotonic\")\n",
    "xgb_calib_clf.fit(x_train, y_train)  \n",
    "pickle.dump(xgb_cfl, open('xgb_model_calib_300', 'wb'))\n",
    "y_pred_train = xgb_calib_clf.predict_proba(x_train)\n",
    "y_pred_cv = xgb_calib_clf.predict_proba(x_cv)\n",
    "print(\"Train logloss: \",log_loss(y_train,y_pred_train))\n",
    "print(\"CV logloss: \",log_loss(y_cv,y_pred_cv))"
   ]
  },
  {
   "cell_type": "code",
   "execution_count": 81,
   "metadata": {},
   "outputs": [
    {
     "name": "stdout",
     "output_type": "stream",
     "text": [
      "Fitting 5 folds for each of 10 candidates, totalling 50 fits\n"
     ]
    },
    {
     "name": "stderr",
     "output_type": "stream",
     "text": [
      "[Parallel(n_jobs=-1)]: Using backend LokyBackend with 16 concurrent workers.\n",
      "[Parallel(n_jobs=-1)]: Done   9 tasks      | elapsed: 478.2min\n",
      "[Parallel(n_jobs=-1)]: Done  18 tasks      | elapsed: 644.1min\n",
      "[Parallel(n_jobs=-1)]: Done  25 out of  50 | elapsed: 752.8min remaining: 752.8min\n",
      "[Parallel(n_jobs=-1)]: Done  31 out of  50 | elapsed: 875.7min remaining: 536.7min\n",
      "[Parallel(n_jobs=-1)]: Done  37 out of  50 | elapsed: 990.2min remaining: 347.9min\n",
      "[Parallel(n_jobs=-1)]: Done  43 out of  50 | elapsed: 1042.7min remaining: 169.7min\n",
      "[Parallel(n_jobs=-1)]: Done  50 out of  50 | elapsed: 1108.9min finished\n"
     ]
    },
    {
     "data": {
      "text/plain": [
       "RandomizedSearchCV(estimator=XGBClassifier(base_score=None, booster=None,\n",
       "                                           colsample_bylevel=None,\n",
       "                                           colsample_bynode=None,\n",
       "                                           colsample_bytree=None, gamma=None,\n",
       "                                           gpu_id=None, importance_type='gain',\n",
       "                                           interaction_constraints=None,\n",
       "                                           learning_rate=None,\n",
       "                                           max_delta_step=None, max_depth=None,\n",
       "                                           min_child_weight=None, missing=nan,\n",
       "                                           monotone_constraints=None,\n",
       "                                           n_estimators=100, n_job...\n",
       "                                           num_parallel_tree=None,\n",
       "                                           random_state=None, reg_alpha=None,\n",
       "                                           reg_lambda=None,\n",
       "                                           scale_pos_weight=None,\n",
       "                                           subsample=None, tree_method=None,\n",
       "                                           validate_parameters=None,\n",
       "                                           verbosity=None),\n",
       "                   n_jobs=-1,\n",
       "                   param_distributions={'colsample_bytree': [0.3, 0.5, 1],\n",
       "                                        'learning_rate': [0.01, 0.05, 0.15,\n",
       "                                                          0.2],\n",
       "                                        'max_depth': [3, 5, 7],\n",
       "                                        'n_estimators': [350, 450, 550],\n",
       "                                        'subsample': [0.3, 0.5, 1]},\n",
       "                   verbose=10)"
      ]
     },
     "execution_count": 81,
     "metadata": {},
     "output_type": "execute_result"
    }
   ],
   "source": [
    "xgb_cfl=XGBClassifier()\n",
    "\n",
    "params={\n",
    "    'learning_rate':[0.01,0.05,0.15,0.2],\n",
    "     'n_estimators':[350,450,550],\n",
    "     'max_depth':[3,5,7],\n",
    "    'colsample_bytree':[0.3,0.5,1],\n",
    "    'subsample':[0.3,0.5,1]\n",
    "}\n",
    "rs_cfl=RandomizedSearchCV(xgb_cfl,param_distributions=params,verbose=10,n_jobs=-1,)\n",
    "rs_cfl.fit(x_train_feat_imp, y_train)"
   ]
  },
  {
   "cell_type": "code",
   "execution_count": 82,
   "metadata": {},
   "outputs": [],
   "source": [
    "pickle.dump(rs_cfl, open('rs_cfl', 'wb'))"
   ]
  },
  {
   "cell_type": "code",
   "execution_count": 83,
   "metadata": {},
   "outputs": [
    {
     "data": {
      "text/plain": [
       "{'subsample': 1,\n",
       " 'n_estimators': 350,\n",
       " 'max_depth': 5,\n",
       " 'learning_rate': 0.01,\n",
       " 'colsample_bytree': 0.5}"
      ]
     },
     "execution_count": 83,
     "metadata": {},
     "output_type": "execute_result"
    }
   ],
   "source": [
    "rs_cfl.best_params_"
   ]
  },
  {
   "cell_type": "code",
   "execution_count": 84,
   "metadata": {},
   "outputs": [
    {
     "data": {
      "text/plain": [
       "XGBClassifier(base_score=0.5, booster='gbtree', colsample_bylevel=1,\n",
       "              colsample_bynode=1, colsample_bytree=0.5, gamma=0, gpu_id=-1,\n",
       "              importance_type='gain', interaction_constraints='',\n",
       "              learning_rate=0.01, max_delta_step=0, max_depth=5,\n",
       "              min_child_weight=1, missing=nan, monotone_constraints='()',\n",
       "              n_estimators=350, n_jobs=-1, nthread=-1, num_parallel_tree=1,\n",
       "              objective='multi:softprob', random_state=0, reg_alpha=0,\n",
       "              reg_lambda=1, scale_pos_weight=None, subsample=1,\n",
       "              tree_method='exact', validate_parameters=1, verbosity=None)"
      ]
     },
     "execution_count": 84,
     "metadata": {},
     "output_type": "execute_result"
    }
   ],
   "source": [
    "xgb_cfl_best=XGBClassifier(n_estimators=350,max_depth=5,learning_rate=0.01,colsample_bytree=0.5,subsample=1,nthread=-1)\n",
    "xgb_cfl_best.fit(x_train_feat_imp,y_train,verbose=True)"
   ]
  },
  {
   "cell_type": "code",
   "execution_count": 85,
   "metadata": {},
   "outputs": [],
   "source": [
    "pickle.dump(xgb_cfl_best, open('xgb_cfl_best', 'wb'))"
   ]
  },
  {
   "cell_type": "code",
   "execution_count": 88,
   "metadata": {},
   "outputs": [
    {
     "name": "stdout",
     "output_type": "stream",
     "text": [
      "Train logloss:  0.5932772290652153\n",
      "CV logloss:  0.8621281748998794\n"
     ]
    }
   ],
   "source": [
    "y_pred_train = xgb_cfl_best.predict_proba(x_train_feat_imp)\n",
    "y_pred_cv = xgb_cfl_best.predict_proba(x_cv_feat_imp)\n",
    "print(\"Train logloss: \",log_loss(y_train,y_pred_train))\n",
    "print(\"CV logloss: \",log_loss(y_cv,y_pred_cv))"
   ]
  },
  {
   "cell_type": "markdown",
   "metadata": {},
   "source": [
    "## LGBM"
   ]
  },
  {
   "cell_type": "code",
   "execution_count": 11,
   "metadata": {},
   "outputs": [],
   "source": [
    "import lightgbm as lgbm\n",
    "from sklearn.model_selection import RandomizedSearchCV"
   ]
  },
  {
   "cell_type": "code",
   "execution_count": 21,
   "metadata": {},
   "outputs": [
    {
     "name": "stdout",
     "output_type": "stream",
     "text": [
      "Fitting 5 folds for each of 10 candidates, totalling 50 fits\n"
     ]
    },
    {
     "name": "stderr",
     "output_type": "stream",
     "text": [
      "[Parallel(n_jobs=-1)]: Using backend LokyBackend with 16 concurrent workers.\n",
      "[Parallel(n_jobs=-1)]: Done   9 tasks      | elapsed: 21.7min\n",
      "[Parallel(n_jobs=-1)]: Done  18 tasks      | elapsed: 28.1min\n",
      "[Parallel(n_jobs=-1)]: Done  25 out of  50 | elapsed: 29.2min remaining: 29.2min\n",
      "[Parallel(n_jobs=-1)]: Done  31 out of  50 | elapsed: 32.4min remaining: 19.8min\n",
      "[Parallel(n_jobs=-1)]: Done  37 out of  50 | elapsed: 41.0min remaining: 14.4min\n",
      "[Parallel(n_jobs=-1)]: Done  43 out of  50 | elapsed: 45.5min remaining:  7.4min\n",
      "[Parallel(n_jobs=-1)]: Done  50 out of  50 | elapsed: 48.4min finished\n"
     ]
    },
    {
     "data": {
      "text/plain": [
       "RandomizedSearchCV(estimator=LGBMClassifier(metric='multi_logloss', num_class=4,\n",
       "                                            objective='multiclass'),\n",
       "                   n_jobs=-1,\n",
       "                   param_distributions={'colsample_bytree': [0.5, 0.7, 0.8],\n",
       "                                        'learning_rate': [0.01, 0.1, 0.3],\n",
       "                                        'max_depth': [3, 5, 7],\n",
       "                                        'n_estimators': [50, 100, 300],\n",
       "                                        'num_leaves': [20, 30, 50]},\n",
       "                   verbose=10)"
      ]
     },
     "execution_count": 21,
     "metadata": {},
     "output_type": "execute_result"
    }
   ],
   "source": [
    "lgbm_cfl = lgbm.LGBMClassifier(objective='multiclass',metric='multi_logloss',num_class=4)\n",
    "\n",
    "params={\n",
    "    'learning_rate':[0.01,0.1,0.3],\n",
    "     'n_estimators':[50,100,300],\n",
    "     'max_depth':[3,5,7],\n",
    "    'colsample_bytree':[0.5,0.7,0.8],\n",
    "    'num_leaves':[20,30,50]\n",
    "}\n",
    "rs_cfl=RandomizedSearchCV(lgbm_cfl,param_distributions=params,verbose=10,n_jobs=-1)\n",
    "rs_cfl.fit(x_train, y_train)"
   ]
  },
  {
   "cell_type": "code",
   "execution_count": 22,
   "metadata": {},
   "outputs": [
    {
     "data": {
      "text/plain": [
       "{'num_leaves': 20,\n",
       " 'n_estimators': 300,\n",
       " 'max_depth': 5,\n",
       " 'learning_rate': 0.3,\n",
       " 'colsample_bytree': 0.7}"
      ]
     },
     "execution_count": 22,
     "metadata": {},
     "output_type": "execute_result"
    }
   ],
   "source": [
    "rs_cfl.best_params_"
   ]
  },
  {
   "cell_type": "code",
   "execution_count": 25,
   "metadata": {},
   "outputs": [
    {
     "data": {
      "text/plain": [
       "LGBMClassifier(colsample_bytree=0.7, max_depth=5, metric='multi_logloss',\n",
       "               n_estimators=500, num_class=4, num_leaves=30,\n",
       "               objective='multiclass')"
      ]
     },
     "execution_count": 25,
     "metadata": {},
     "output_type": "execute_result"
    }
   ],
   "source": [
    "lgbm_cfl_2 = lgbm.LGBMClassifier(objective='multiclass',metric='multi_logloss',num_class=4,num_leaves=20,\n",
    "                                   n_estimators=500,max_depth=5,learning_rate=.3,colsample_bytree=0.7)\n",
    "\n",
    "lgbm_cfl_2.fit(x_train, y_train)"
   ]
  },
  {
   "cell_type": "code",
   "execution_count": 26,
   "metadata": {},
   "outputs": [
    {
     "name": "stdout",
     "output_type": "stream",
     "text": [
      "Train logloss:  0.08791106290181834\n",
      "CV logloss:  0.09007561061390987\n"
     ]
    }
   ],
   "source": [
    "y_pred_train = lgbm_cfl_2.predict_proba(x_train)\n",
    "y_pred_cv = lgbm_cfl_2.predict_proba(x_cv)\n",
    "print(\"Train logloss: \",log_loss(y_train,y_pred_train))\n",
    "print(\"CV logloss: \",log_loss(y_cv,y_pred_cv))"
   ]
  },
  {
   "cell_type": "code",
   "execution_count": null,
   "metadata": {},
   "outputs": [],
   "source": []
  },
  {
   "cell_type": "markdown",
   "metadata": {},
   "source": [
    "## Keeping only important features"
   ]
  },
  {
   "cell_type": "code",
   "execution_count": 97,
   "metadata": {},
   "outputs": [],
   "source": [
    "x_tr_feat_imp = x_train.loc[:, important_features]\n",
    "\n",
    "x_cv_feat_imp = x_cv.loc[:, important_features]\n",
    "\n",
    "x_test_feat_imp = test_data_.loc[:, important_features]"
   ]
  },
  {
   "cell_type": "code",
   "execution_count": 74,
   "metadata": {},
   "outputs": [
    {
     "data": {
      "text/plain": [
       "LGBMClassifier(colsample_bytree=0.7, learning_rate=0.01, max_depth=5,\n",
       "               metric='multi_logloss', n_estimators=2000, num_class=4,\n",
       "               num_leaves=30, objective='multiclass')"
      ]
     },
     "execution_count": 74,
     "metadata": {},
     "output_type": "execute_result"
    }
   ],
   "source": [
    "lgbm_cfl_fs = lgbm.LGBMClassifier(objective='multiclass',metric='multi_logloss',num_class=4,num_leaves=30,\n",
    "                                   n_estimators=2000,max_depth=5,learning_rate=.01,colsample_bytree=0.7)\n",
    "\n",
    "lgbm_cfl_fs.fit(x_tr_feat_imp, y_train)"
   ]
  },
  {
   "cell_type": "code",
   "execution_count": 75,
   "metadata": {},
   "outputs": [
    {
     "name": "stdout",
     "output_type": "stream",
     "text": [
      "Train logloss:  0.18455567751191237\n",
      "CV logloss:  0.18614070117535605\n"
     ]
    }
   ],
   "source": [
    "y_pred_train = lgbm_cfl_fs.predict_proba(x_tr_feat_imp)\n",
    "y_pred_cv = lgbm_cfl_fs.predict_proba(x_cv_feat_imp)\n",
    "print(\"Train logloss: \",log_loss(y_train,y_pred_train))\n",
    "print(\"CV logloss: \",log_loss(y_cv,y_pred_cv))"
   ]
  },
  {
   "cell_type": "code",
   "execution_count": 98,
   "metadata": {},
   "outputs": [],
   "source": []
  },
  {
   "cell_type": "code",
   "execution_count": 104,
   "metadata": {},
   "outputs": [
    {
     "data": {
      "text/plain": [
       "LGBMClassifier(colsample_bytree=0.7, learning_rate=0.01, max_depth=3,\n",
       "               metric='multi_logloss', n_estimators=4000, num_class=4,\n",
       "               num_leaves=30, objective='multiclass', reg_alpha=0.1)"
      ]
     },
     "execution_count": 104,
     "metadata": {},
     "output_type": "execute_result"
    }
   ],
   "source": [
    "lgbm_cfl_ = lgbm.LGBMClassifier(objective='multiclass',metric='multi_logloss',num_class=4,num_leaves=30,\n",
    "                                   n_estimators=4000,max_depth=3,learning_rate=.01,colsample_bytree=0.7,reg_alpha=.1)\n",
    "\n",
    "lgbm_cfl_.fit(tr_feat_imp, y)\n",
    "\n"
   ]
  },
  {
   "cell_type": "code",
   "execution_count": 105,
   "metadata": {},
   "outputs": [
    {
     "name": "stdout",
     "output_type": "stream",
     "text": [
      "Train logloss:  0.26275757589186405\n"
     ]
    }
   ],
   "source": [
    "y_pred = lgbm_cfl_.predict_proba(x_tr_feat_imp)\n",
    "y_pred_cv = lgbm_cfl_.predict_proba(x_cv_feat_imp)\n",
    "print(\"Train logloss: \",log_loss(y_test,y_pred))\n",
    "print(\"CV logloss: \",log_loss(y_cv,y_pred_cv))"
   ]
  },
  {
   "cell_type": "markdown",
   "metadata": {},
   "source": [
    "## PCA"
   ]
  },
  {
   "cell_type": "code",
   "execution_count": 51,
   "metadata": {},
   "outputs": [],
   "source": [
    "from sklearn import decomposition\n",
    "pca = decomposition.PCA()"
   ]
  },
  {
   "cell_type": "code",
   "execution_count": 56,
   "metadata": {},
   "outputs": [],
   "source": [
    "pca.n_components = 100\n",
    "pca_ = pca.fit(x_train)"
   ]
  },
  {
   "cell_type": "code",
   "execution_count": 57,
   "metadata": {},
   "outputs": [],
   "source": [
    "tr_dt_pca = pca_.transform(x_train)\n",
    "cv_dt_pca = pca_.transform(x_cv)\n",
    "te_dt_pca = pca_.transform(test_data_)"
   ]
  },
  {
   "cell_type": "code",
   "execution_count": 60,
   "metadata": {},
   "outputs": [],
   "source": [
    "percentage_var_explained1 = pca.explained_variance_ / np.sum(pca.explained_variance_)\n",
    "\n",
    "cum_var_explained1 = np.cumsum(percentage_var_explained1)"
   ]
  },
  {
   "cell_type": "code",
   "execution_count": 61,
   "metadata": {},
   "outputs": [
    {
     "data": {
      "image/png": "[encoded data removed]",
      "text/plain": [
       "<Figure size 432x288 with 1 Axes>"
      ]
     },
     "metadata": {
      "needs_background": "light"
     },
     "output_type": "display_data"
    }
   ],
   "source": [
    "plt.figure(1, figsize=(6, 4))\n",
    "\n",
    "plt.clf()\n",
    "plt.plot(cum_var_explained1, linewidth=2)\n",
    "plt.axis('tight')\n",
    "plt.grid()\n",
    "plt.xlabel('n_components')\n",
    "plt.ylabel('Cumulative_explained_variance')\n",
    "plt.show()\n"
   ]
  },
  {
   "cell_type": "markdown",
   "metadata": {},
   "source": [
    "## Above graph indicates that 100% variance can be achieved with around 70 features"
   ]
  },
  {
   "cell_type": "code",
   "execution_count": 62,
   "metadata": {},
   "outputs": [],
   "source": [
    "pca.n_components = 70\n",
    "pca_ = pca.fit(x_train)"
   ]
  },
  {
   "cell_type": "code",
   "execution_count": 63,
   "metadata": {},
   "outputs": [],
   "source": [
    "tr_dt_pca = pca_.transform(x_train)\n",
    "cv_dt_pca = pca_.transform(x_cv)\n",
    "te_dt_pca = pca_.transform(test_data_)"
   ]
  },
  {
   "cell_type": "code",
   "execution_count": null,
   "metadata": {},
   "outputs": [],
   "source": []
  },
  {
   "cell_type": "code",
   "execution_count": 125,
   "metadata": {},
   "outputs": [
    {
     "name": "stdout",
     "output_type": "stream",
     "text": [
      "[LightGBM] [Warning] min_data_in_leaf is set=100, min_child_samples=20 will be ignored. Current value: min_data_in_leaf=100\n"
     ]
    },
    {
     "data": {
      "text/plain": [
       "LGBMClassifier(colsample_bytree=0.8, max_depth=7, metric='multi_logloss',\n",
       "               min_data_in_leaf=100, n_estimators=10, num_class=4,\n",
       "               num_leaves=40, objective='multiclass', reg_alpha=0.01)"
      ]
     },
     "execution_count": 125,
     "metadata": {},
     "output_type": "execute_result"
    }
   ],
   "source": [
    "lgbm_cfl_ = lgbm.LGBMClassifier(objective='multiclass',metric='multi_logloss',num_class=4,num_leaves=40,\n",
    "                                   n_estimators=10,max_depth=7,learning_rate=.1,colsample_bytree=0.8,min_data_in_leaf=100,reg_alpha=.01)\n",
    "\n",
    "lgbm_cfl_.fit(tr_data_pca, y_train)\n"
   ]
  },
  {
   "cell_type": "code",
   "execution_count": 126,
   "metadata": {},
   "outputs": [
    {
     "name": "stdout",
     "output_type": "stream",
     "text": [
      "Train logloss:  0.5678693360983159\n",
      "CV logloss:  0.5681861959205138\n"
     ]
    }
   ],
   "source": [
    "y_pred = lgbm_cfl_.predict_proba(tr_data_pca)\n",
    "y_pred_cv = lgbm_cfl_.predict_proba(cv_data_pca)\n",
    "print(\"Train logloss: \",log_loss(y_train,y_pred))\n",
    "print(\"CV logloss: \",log_loss(y_cv,y_pred_cv))"
   ]
  },
  {
   "cell_type": "code",
   "execution_count": 24,
   "metadata": {},
   "outputs": [
    {
     "name": "stdout",
     "output_type": "stream",
     "text": [
      "Fitting 5 folds for each of 10 candidates, totalling 50 fits\n"
     ]
    },
    {
     "name": "stderr",
     "output_type": "stream",
     "text": [
      "[Parallel(n_jobs=-1)]: Using backend LokyBackend with 16 concurrent workers.\n",
      "[Parallel(n_jobs=-1)]: Done   9 tasks      | elapsed:  2.9min\n",
      "[Parallel(n_jobs=-1)]: Done  18 tasks      | elapsed:  3.8min\n",
      "[Parallel(n_jobs=-1)]: Done  25 out of  50 | elapsed:  5.1min remaining:  5.1min\n",
      "[Parallel(n_jobs=-1)]: Done  31 out of  50 | elapsed:  6.2min remaining:  3.8min\n",
      "[Parallel(n_jobs=-1)]: Done  37 out of  50 | elapsed:  7.8min remaining:  2.7min\n",
      "[Parallel(n_jobs=-1)]: Done  43 out of  50 | elapsed:  7.8min remaining:  1.3min\n",
      "[Parallel(n_jobs=-1)]: Done  50 out of  50 | elapsed:  8.7min finished\n"
     ]
    },
    {
     "name": "stdout",
     "output_type": "stream",
     "text": [
      "[LightGBM] [Warning] min_data_in_leaf is set=50, min_child_samples=20 will be ignored. Current value: min_data_in_leaf=50\n"
     ]
    },
    {
     "data": {
      "text/plain": [
       "RandomizedSearchCV(estimator=LGBMClassifier(metric='multi_logloss', num_class=4,\n",
       "                                            objective='multiclass'),\n",
       "                   n_jobs=-1,\n",
       "                   param_distributions={'colsample_bytree': [0.5, 0.7, 0.8],\n",
       "                                        'learning_rate': [0.01, 0.1, 0.3],\n",
       "                                        'max_depth': [3, 5, 7],\n",
       "                                        'min_data_in_leaf': [50, 100, 400],\n",
       "                                        'n_estimators': [25, 50, 100],\n",
       "                                        'num_leaves': [30, 40, 60],\n",
       "                                        'reg_alpha': [0.01, 0.1]},\n",
       "                   verbose=10)"
      ]
     },
     "execution_count": 24,
     "metadata": {},
     "output_type": "execute_result"
    }
   ],
   "source": [
    "lgbm_cfl = lgbm.LGBMClassifier(objective='multiclass',metric='multi_logloss',num_class=4)\n",
    "\n",
    "params={\n",
    "    'learning_rate':[0.01,0.1,0.3],\n",
    "     'n_estimators':[25,50,100],\n",
    "     'max_depth':[3,5,7],\n",
    "    'colsample_bytree':[0.5,0.7,0.8],\n",
    "    'num_leaves':[30,40,60],\n",
    "    'min_data_in_leaf':[50,100,400],\n",
    "    'reg_alpha':[.01,.1]\n",
    "}\n",
    "rs_cfl=RandomizedSearchCV(lgbm_cfl,param_distributions=params,verbose=10,n_jobs=-1)\n",
    "rs_cfl.fit(tr_data_pca, y_train)"
   ]
  },
  {
   "cell_type": "code",
   "execution_count": 25,
   "metadata": {},
   "outputs": [
    {
     "data": {
      "text/plain": [
       "{'reg_alpha': 0.01,\n",
       " 'num_leaves': 30,\n",
       " 'n_estimators': 100,\n",
       " 'min_data_in_leaf': 50,\n",
       " 'max_depth': 7,\n",
       " 'learning_rate': 0.3,\n",
       " 'colsample_bytree': 0.5}"
      ]
     },
     "execution_count": 25,
     "metadata": {},
     "output_type": "execute_result"
    }
   ],
   "source": [
    "rs_cfl.best_params_"
   ]
  },
  {
   "cell_type": "code",
   "execution_count": 26,
   "metadata": {},
   "outputs": [
    {
     "data": {
      "text/plain": [
       "LGBMClassifier(colsample_bytree=0.5, learning_rate=0.3, max_depth=7,\n",
       "               metric='multi_logloss', min_data_in_leaf=50, num_class=4,\n",
       "               num_leaves=30, objective='multiclass', reg_alpha=0.01)"
      ]
     },
     "execution_count": 26,
     "metadata": {},
     "output_type": "execute_result"
    }
   ],
   "source": [
    "lgbm_cfl_ = lgbm.LGBMClassifier(objective='multiclass',metric='multi_logloss',num_class=4,num_leaves=30,\n",
    "                                   n_estimators=100,max_depth=7,learning_rate=.3,colsample_bytree=0.5,min_data_in_leaf=50,reg_alpha=.01)\n",
    "\n",
    "lgbm_cfl_.fit(tr_data_pca, y_train)"
   ]
  },
  {
   "cell_type": "code",
   "execution_count": 28,
   "metadata": {},
   "outputs": [
    {
     "name": "stdout",
     "output_type": "stream",
     "text": [
      "Train logloss:  0.23142617288868655\n",
      "CV logloss:  0.23542096312896782\n"
     ]
    }
   ],
   "source": [
    "y_pred = lgbm_cfl_.predict_proba(tr_data_pca)\n",
    "y_pred_cv = lgbm_cfl_.predict_proba(cv_data_pca)\n",
    "print(\"Train logloss: \",log_loss(y_train,y_pred))\n",
    "print(\"CV logloss: \",log_loss(y_cv,y_pred_cv))"
   ]
  },
  {
   "cell_type": "code",
   "execution_count": 179,
   "metadata": {},
   "outputs": [],
   "source": []
  },
  {
   "cell_type": "markdown",
   "metadata": {},
   "source": [
    "## Custom Stacking Classifier"
   ]
  },
  {
   "cell_type": "code",
   "execution_count": 17,
   "metadata": {},
   "outputs": [],
   "source": [
    "d_train, d_test, y_dtrain, y_dtest = train_test_split(train_data_, y, test_size=0.20, stratify=y)"
   ]
  },
  {
   "cell_type": "code",
   "execution_count": 18,
   "metadata": {},
   "outputs": [],
   "source": [
    "d1_train, d2_train, y_d1train, y_d2train = train_test_split(d_train, y_dtrain, test_size=0.50, stratify=y_dtrain)"
   ]
  },
  {
   "cell_type": "code",
   "execution_count": 19,
   "metadata": {},
   "outputs": [],
   "source": [
    "def createSample(data,target):\n",
    "    \n",
    "    dt_size = int(.7*data.shape[0])\n",
    "    \n",
    "    rand_index = np.random.choice(data.shape[0],dt_size,replace=True)\n",
    "    \n",
    "    sampled_data = data[data.index.isin(rand_index)]\n",
    "    \n",
    "    sampled_y = target[target.index.isin(rand_index)]\n",
    "    \n",
    "    return sampled_data, sampled_y\n",
    "    "
   ]
  },
  {
   "cell_type": "code",
   "execution_count": 20,
   "metadata": {},
   "outputs": [],
   "source": [
    "def createBaseModel(modelName,data,target):\n",
    "    \n",
    "    \n",
    "    if(modelName=='Decision Tree'):\n",
    "        \n",
    "        model = DecisionTreeClassifier()\n",
    "        \n",
    "    elif(modelName=='KNN'):\n",
    "        \n",
    "        model = KNeighborsClassifier(algorithm='kd_tree')\n",
    "    \n",
    "    elif(modelName=='Logistic Regression'):\n",
    "        \n",
    "        model = LogisticRegression()\n",
    "    \n",
    "    elif(modelName=='SVM'):\n",
    "        \n",
    "        model = SVC()\n",
    "        \n",
    "    elif(modelName=='Naive Bayes'):\n",
    "        \n",
    "        model = GaussianNB()\n",
    "        \n",
    "    elif(modelName=='LGBM'):\n",
    "        \n",
    "        model = lgbm.LGBMClassifier(objective='multiclass',metric='multi_logloss',num_class=4,num_leaves=40,\n",
    "                                   n_estimators=30,max_depth=7,learning_rate=.1,colsample_bytree=0.5)\n",
    "    elif(modelName=='Random Forest'):\n",
    "        \n",
    "        model = RandomForestClassifier(n_estimators=20,n_jobs=-1)\n",
    "        \n",
    "    elif(modelName=='XGB'):\n",
    "        \n",
    "        model = XGBClassifier(n_estimators=40,max_depth=5,learning_rate=0.01,colsample_bytree=0.5,subsample=1,nthread=-1)\n",
    "        \n",
    "            \n",
    "    model.fit(data,target)\n",
    "    \n",
    "    \n",
    "    return model\n",
    "        "
   ]
  },
  {
   "cell_type": "code",
   "execution_count": 21,
   "metadata": {},
   "outputs": [],
   "source": [
    "def createPredictionsDataset(models_list,D1,Y1,D2):\n",
    "    \n",
    "    trained_models = []\n",
    "    \n",
    "    for i,m in tqdm(enumerate(models_list)):\n",
    "\n",
    "        dt_sample, y_sample = createSample(D1,Y1)\n",
    "        \n",
    "        trained_model = createBaseModel(m,dt_sample,y_sample)\n",
    "        \n",
    "        trained_models.append(trained_model)\n",
    "        \n",
    "        print(\"Trained model: \",m)\n",
    "\n",
    "        if(i==0):\n",
    "\n",
    "            predicts_base = trained_model.predict(D2)\n",
    "            predicts_base = pd.DataFrame(predicts_base)\n",
    "\n",
    "        else:\n",
    "\n",
    "            pred = trained_model.predict(D2)\n",
    "            pred = pd.DataFrame(pred)\n",
    "\n",
    "        if(i>0):\n",
    "\n",
    "            predicts_base = pd.concat([predicts_base,pred],axis=1)\n",
    "            \n",
    "    return predicts_base,trained_models"
   ]
  },
  {
   "cell_type": "code",
   "execution_count": 22,
   "metadata": {},
   "outputs": [
    {
     "name": "stderr",
     "output_type": "stream",
     "text": [
      "\r",
      "0it [00:00, ?it/s]"
     ]
    },
    {
     "name": "stdout",
     "output_type": "stream",
     "text": [
      "Trained model:  Logistic Regression\n"
     ]
    },
    {
     "name": "stderr",
     "output_type": "stream",
     "text": [
      "\r",
      "1it [00:26, 26.26s/it]"
     ]
    },
    {
     "name": "stdout",
     "output_type": "stream",
     "text": [
      "Trained model:  Naive Bayes\n"
     ]
    },
    {
     "name": "stderr",
     "output_type": "stream",
     "text": [
      "\r",
      "2it [00:57, 27.80s/it]"
     ]
    },
    {
     "name": "stdout",
     "output_type": "stream",
     "text": [
      "Trained model:  LGBM\n"
     ]
    },
    {
     "name": "stderr",
     "output_type": "stream",
     "text": [
      "3it [01:17, 25.67s/it]\n"
     ]
    }
   ],
   "source": [
    "models = ['Logistic Regression','Naive Bayes','LGBM']\n",
    "\n",
    "pred_data_base, base_models = createPredictionsDataset(models,d1_train,y_d1train,d2_train)"
   ]
  },
  {
   "cell_type": "markdown",
   "metadata": {},
   "source": [
    "### Now training metaclassifier"
   ]
  },
  {
   "cell_type": "code",
   "execution_count": 23,
   "metadata": {},
   "outputs": [
    {
     "data": {
      "text/plain": [
       "DecisionTreeClassifier()"
      ]
     },
     "execution_count": 23,
     "metadata": {},
     "output_type": "execute_result"
    }
   ],
   "source": [
    "meta_classifier = DecisionTreeClassifier()\n",
    "\n",
    "meta_classifier.fit(pred_data_base,y_d2train)"
   ]
  },
  {
   "cell_type": "markdown",
   "metadata": {},
   "source": [
    "### Evaluation"
   ]
  },
  {
   "cell_type": "code",
   "execution_count": 25,
   "metadata": {},
   "outputs": [],
   "source": [
    "for i,tr_m in enumerate(base_models):\n",
    "    \n",
    "    if(i==0):\n",
    "    \n",
    "        predicts_base_test = tr_m.predict(d_test)\n",
    "    \n",
    "        predicts_base_test = pd.DataFrame(predicts_base_test)\n",
    "\n",
    "    if(i>0):\n",
    "        \n",
    "        preds = tr_m.predict(d_test)\n",
    "        preds = pd.DataFrame(preds)\n",
    "\n",
    "        predicts_base_test = pd.concat([predicts_base_test,preds],axis=1)\n",
    "\n",
    "\n"
   ]
  },
  {
   "cell_type": "code",
   "execution_count": 26,
   "metadata": {},
   "outputs": [
    {
     "name": "stdout",
     "output_type": "stream",
     "text": [
      "Test logloss:  0.4860050431323418\n"
     ]
    }
   ],
   "source": [
    "final_test_preds = meta_classifier.predict_proba(predicts_base_test)\n",
    "\n",
    "print(\"Test logloss: \",log_loss(y_dtest,final_test_preds))"
   ]
  },
  {
   "cell_type": "code",
   "execution_count": 78,
   "metadata": {},
   "outputs": [],
   "source": [
    "pickle.dump(meta_classifier, open('stacked_classifier/meta_classifier', 'wb'))\n",
    "pickle.dump(d_test_, open('stacked_classifier/d_test_', 'wb'))\n",
    "pickle.dump(base_models, open('stacked_classifier/base_models', 'wb'))\n",
    "pickle.dump(pca_, open('stacked_classifier/pca_', 'wb'))"
   ]
  },
  {
   "cell_type": "code",
   "execution_count": null,
   "metadata": {},
   "outputs": [],
   "source": []
  },
  {
   "cell_type": "markdown",
   "metadata": {},
   "source": [
    "### Submission test predictions"
   ]
  },
  {
   "cell_type": "code",
   "execution_count": 27,
   "metadata": {},
   "outputs": [],
   "source": [
    "for i,tr_m in enumerate(base_models):\n",
    "    \n",
    "    if(i==0):\n",
    "    \n",
    "        submission_pred_data = tr_m.predict(test_data_)\n",
    "    \n",
    "        submission_pred_data = pd.DataFrame(submission_pred_data)\n",
    "\n",
    "    if(i>0):\n",
    "        \n",
    "        submission_preds_dt = tr_m.predict(test_data_)\n",
    "        submission_preds_dt = pd.DataFrame(submission_preds_dt)\n",
    "\n",
    "        submission_pred_data = pd.concat([submission_pred_data,submission_preds_dt],axis=1)"
   ]
  },
  {
   "cell_type": "code",
   "execution_count": 28,
   "metadata": {},
   "outputs": [],
   "source": [
    "pickle.dump(submission_pred_data, open('stacked_classifier/submission_pred_data2', 'wb'))"
   ]
  },
  {
   "cell_type": "code",
   "execution_count": 29,
   "metadata": {},
   "outputs": [],
   "source": [
    "submission_preds = meta_classifier.predict_proba(submission_pred_data)"
   ]
  },
  {
   "cell_type": "code",
   "execution_count": 30,
   "metadata": {},
   "outputs": [],
   "source": [
    "submission_cv = pd.DataFrame(data = submission_preds,columns = ['A','B','C','D'])"
   ]
  },
  {
   "cell_type": "code",
   "execution_count": 32,
   "metadata": {},
   "outputs": [],
   "source": [
    "submission_cv['id'] = submission_cv.index"
   ]
  },
  {
   "cell_type": "code",
   "execution_count": 33,
   "metadata": {},
   "outputs": [],
   "source": [
    "submission_cv = submission_cv[['id','A','B','C','D']]"
   ]
  },
  {
   "cell_type": "code",
   "execution_count": 34,
   "metadata": {},
   "outputs": [
    {
     "data": {
      "text/html": [
       "<div>\n",
       "<style scoped>\n",
       "    .dataframe tbody tr th:only-of-type {\n",
       "        vertical-align: middle;\n",
       "    }\n",
       "\n",
       "    .dataframe tbody tr th {\n",
       "        vertical-align: top;\n",
       "    }\n",
       "\n",
       "    .dataframe thead th {\n",
       "        text-align: right;\n",
       "    }\n",
       "</style>\n",
       "<table border=\"1\" class=\"dataframe\">\n",
       "  <thead>\n",
       "    <tr style=\"text-align: right;\">\n",
       "      <th></th>\n",
       "      <th>id</th>\n",
       "      <th>A</th>\n",
       "      <th>B</th>\n",
       "      <th>C</th>\n",
       "      <th>D</th>\n",
       "    </tr>\n",
       "  </thead>\n",
       "  <tbody>\n",
       "    <tr>\n",
       "      <th>0</th>\n",
       "      <td>0</td>\n",
       "      <td>0.944718</td>\n",
       "      <td>0.003441</td>\n",
       "      <td>0.050072</td>\n",
       "      <td>0.001769</td>\n",
       "    </tr>\n",
       "    <tr>\n",
       "      <th>1</th>\n",
       "      <td>1</td>\n",
       "      <td>0.420829</td>\n",
       "      <td>0.023949</td>\n",
       "      <td>0.555222</td>\n",
       "      <td>0.000000</td>\n",
       "    </tr>\n",
       "    <tr>\n",
       "      <th>2</th>\n",
       "      <td>2</td>\n",
       "      <td>0.420829</td>\n",
       "      <td>0.023949</td>\n",
       "      <td>0.555222</td>\n",
       "      <td>0.000000</td>\n",
       "    </tr>\n",
       "    <tr>\n",
       "      <th>3</th>\n",
       "      <td>3</td>\n",
       "      <td>0.420829</td>\n",
       "      <td>0.023949</td>\n",
       "      <td>0.555222</td>\n",
       "      <td>0.000000</td>\n",
       "    </tr>\n",
       "    <tr>\n",
       "      <th>4</th>\n",
       "      <td>4</td>\n",
       "      <td>0.420829</td>\n",
       "      <td>0.023949</td>\n",
       "      <td>0.555222</td>\n",
       "      <td>0.000000</td>\n",
       "    </tr>\n",
       "  </tbody>\n",
       "</table>\n",
       "</div>"
      ],
      "text/plain": [
       "   id         A         B         C         D\n",
       "0   0  0.944718  0.003441  0.050072  0.001769\n",
       "1   1  0.420829  0.023949  0.555222  0.000000\n",
       "2   2  0.420829  0.023949  0.555222  0.000000\n",
       "3   3  0.420829  0.023949  0.555222  0.000000\n",
       "4   4  0.420829  0.023949  0.555222  0.000000"
      ]
     },
     "execution_count": 34,
     "metadata": {},
     "output_type": "execute_result"
    }
   ],
   "source": [
    "submission_cv.head()"
   ]
  },
  {
   "cell_type": "code",
   "execution_count": 35,
   "metadata": {},
   "outputs": [
    {
     "data": {
      "text/plain": [
       "(17965143, 5)"
      ]
     },
     "execution_count": 35,
     "metadata": {},
     "output_type": "execute_result"
    }
   ],
   "source": [
    "submission_cv.shape"
   ]
  },
  {
   "cell_type": "code",
   "execution_count": 36,
   "metadata": {},
   "outputs": [],
   "source": [
    "submission_cv.to_csv('Custom_stacking_classifier10.csv', index = False, header=True)"
   ]
  },
  {
   "cell_type": "markdown",
   "metadata": {},
   "source": [
    "## Modelling with new added features like heart rate , respiration rate and eeg power features"
   ]
  },
  {
   "cell_type": "code",
   "execution_count": 42,
   "metadata": {},
   "outputs": [
    {
     "name": "stdout",
     "output_type": "stream",
     "text": [
      "[LightGBM] [Warning] min_data_in_leaf is set=100, min_child_samples=20 will be ignored. Current value: min_data_in_leaf=100\n"
     ]
    },
    {
     "data": {
      "text/plain": [
       "LGBMClassifier(colsample_bytree=0.5, max_depth=7, metric='multi_logloss',\n",
       "               min_data_in_leaf=100, n_estimators=40, num_class=4,\n",
       "               num_leaves=30, objective='multiclass', reg_alpha=0.01)"
      ]
     },
     "execution_count": 42,
     "metadata": {},
     "output_type": "execute_result"
    }
   ],
   "source": [
    "lgbm_cfl_ = lgbm.LGBMClassifier(objective='multiclass',metric='multi_logloss',num_class=4,num_leaves=30,\n",
    "                                   n_estimators=40,max_depth=7,learning_rate=.1,colsample_bytree=0.5,min_data_in_leaf=100,reg_alpha=.01)\n",
    "\n",
    "lgbm_cfl_.fit(x_train, y_train)"
   ]
  },
  {
   "cell_type": "code",
   "execution_count": 43,
   "metadata": {},
   "outputs": [
    {
     "name": "stdout",
     "output_type": "stream",
     "text": [
      "Train logloss:  0.0878268086048108\n",
      "CV logloss:  0.08801411151276309\n"
     ]
    }
   ],
   "source": [
    "y_pred = lgbm_cfl_.predict_proba(x_train)\n",
    "y_pred_cv = lgbm_cfl_.predict_proba(x_cv)\n",
    "print(\"Train logloss: \",log_loss(y_train,y_pred))\n",
    "print(\"CV logloss: \",log_loss(y_cv,y_pred_cv))"
   ]
  },
  {
   "cell_type": "code",
   "execution_count": 13,
   "metadata": {},
   "outputs": [
    {
     "name": "stdout",
     "output_type": "stream",
     "text": [
      "[LightGBM] [Warning] min_data_in_leaf is set=100, min_child_samples=20 will be ignored. Current value: min_data_in_leaf=100\n"
     ]
    },
    {
     "data": {
      "text/plain": [
       "LGBMClassifier(colsample_bytree=0.5, max_depth=7, metric='multi_logloss',\n",
       "               min_data_in_leaf=100, n_estimators=40, num_class=4,\n",
       "               num_leaves=30, objective='multiclass', reg_alpha=0.01)"
      ]
     },
     "execution_count": 13,
     "metadata": {},
     "output_type": "execute_result"
    }
   ],
   "source": [
    "lgbm_cfl_ = lgbm.LGBMClassifier(objective='multiclass',metric='multi_logloss',num_class=4,num_leaves=40,\n",
    "                                   n_estimators=30,max_depth=7,learning_rate=.1,colsample_bytree=0.5,min_data_in_leaf=100,reg_alpha=.01)\n",
    "\n",
    "lgbm_cfl_.fit(x_train, y_train)"
   ]
  },
  {
   "cell_type": "code",
   "execution_count": 14,
   "metadata": {},
   "outputs": [
    {
     "name": "stdout",
     "output_type": "stream",
     "text": [
      "Train logloss:  0.08963250942404453\n",
      "CV logloss:  0.09029178600959277\n"
     ]
    }
   ],
   "source": [
    "y_pred = lgbm_cfl_.predict_proba(x_train)\n",
    "y_pred_cv = lgbm_cfl_.predict_proba(x_cv)\n",
    "print(\"Train logloss: \",log_loss(y_train,y_pred))\n",
    "print(\"CV logloss: \",log_loss(y_cv,y_pred_cv))"
   ]
  },
  {
   "cell_type": "code",
   "execution_count": 41,
   "metadata": {},
   "outputs": [],
   "source": [
    "pickle.dump(lgbm_cfl_, open('best_model/lgbm_40est', 'wb'))"
   ]
  },
  {
   "cell_type": "code",
   "execution_count": null,
   "metadata": {},
   "outputs": [],
   "source": []
  },
  {
   "cell_type": "markdown",
   "metadata": {},
   "source": [
    "## CNN"
   ]
  },
  {
   "cell_type": "code",
   "execution_count": 21,
   "metadata": {},
   "outputs": [],
   "source": [
    "import tensorflow as tf\n",
    "from tensorflow.keras import layers\n",
    "from tensorflow.keras.layers import Dense,Input,Activation,Dropout,Flatten,Conv1D,BatchNormalization,MaxPool1D\n",
    "from tensorflow.keras.models import Model\n",
    "from tensorflow.keras.callbacks import ModelCheckpoint\n",
    "from tensorflow.keras.callbacks import EarlyStopping\n",
    "from tensorflow import keras"
   ]
  },
  {
   "cell_type": "code",
   "execution_count": 18,
   "metadata": {},
   "outputs": [],
   "source": [
    "# https://medium.com/@Rehan_Sayyad/how-to-use-convolutional-neural-networks-for-time-series-classification-80575131a474\n",
    "\n",
    "train_dt = x_train.to_numpy()\n",
    "cv_dt = x_cv.to_numpy()\n",
    "y_train = y_train.to_numpy()\n",
    "y_cv = y_cv.to_numpy()\n",
    "\n",
    "train_dt = tr_data_pca.reshape(train_dt.shape[0],train_dt.shape[1], 1)\n",
    "cv_dt = cv_data_pca.reshape(cv_dt.shape[0],cv_dt.shape[1], 1)\n"
   ]
  },
  {
   "cell_type": "code",
   "execution_count": 19,
   "metadata": {},
   "outputs": [],
   "source": [
    "test_dt = test_data_.to_numpy()\n",
    "test_dt = te_data_pca.reshape(test_data_.shape[0],test_data_.shape[1], 1)"
   ]
  },
  {
   "cell_type": "code",
   "execution_count": 22,
   "metadata": {},
   "outputs": [],
   "source": [
    "y_train_ = tf.keras.utils.to_categorical(y_train, 4)\n",
    "y_cv_ = tf.keras.utils.to_categorical(y_cv, 4)"
   ]
  },
  {
   "cell_type": "code",
   "execution_count": 69,
   "metadata": {},
   "outputs": [],
   "source": [
    "\n",
    "model =keras.models.Sequential()\n",
    "\n",
    "model.add(Input(shape=(train_dt.shape[1],1)))\n",
    "\n",
    "model.add(Conv1D(filters=128, kernel_size=8, padding='valid', activation='relu', kernel_initializer=tf.keras.initializers.he_normal()))\n",
    "model.add(Conv1D(filters=64, kernel_size=6, padding='valid', activation='relu', kernel_initializer=tf.keras.initializers.he_normal()))\n",
    "model.add(MaxPool1D(pool_size=2, padding='valid'))\n",
    "\n",
    "model.add(Dropout(.2))\n",
    "model.add(Flatten())\n",
    "\n",
    "model.add(Dense(units=30,activation='relu',kernel_initializer=tf.keras.initializers.he_normal(seed=10)))\n",
    "\n",
    "model.add(Dense(units=20,activation='relu',kernel_initializer=tf.keras.initializers.he_normal(seed=10)))\n",
    "\n",
    "model.add(Dense(units=4,activation='softmax',kernel_initializer=tf.keras.initializers.he_normal(seed=3)))\n"
   ]
  },
  {
   "cell_type": "code",
   "execution_count": 70,
   "metadata": {},
   "outputs": [
    {
     "name": "stdout",
     "output_type": "stream",
     "text": [
      "Model: \"sequential_9\"\n",
      "_________________________________________________________________\n",
      "Layer (type)                 Output Shape              Param #   \n",
      "=================================================================\n",
      "conv1d_24 (Conv1D)           (None, 8, 128)            1152      \n",
      "_________________________________________________________________\n",
      "conv1d_25 (Conv1D)           (None, 3, 64)             49216     \n",
      "_________________________________________________________________\n",
      "max_pooling1d_7 (MaxPooling1 (None, 1, 64)             0         \n",
      "_________________________________________________________________\n",
      "dropout_3 (Dropout)          (None, 1, 64)             0         \n",
      "_________________________________________________________________\n",
      "flatten_3 (Flatten)          (None, 64)                0         \n",
      "_________________________________________________________________\n",
      "dense_7 (Dense)              (None, 30)                1950      \n",
      "_________________________________________________________________\n",
      "dense_8 (Dense)              (None, 20)                620       \n",
      "_________________________________________________________________\n",
      "dense_9 (Dense)              (None, 4)                 84        \n",
      "=================================================================\n",
      "Total params: 53,022\n",
      "Trainable params: 53,022\n",
      "Non-trainable params: 0\n",
      "_________________________________________________________________\n"
     ]
    }
   ],
   "source": [
    "model.summary()"
   ]
  },
  {
   "cell_type": "code",
   "execution_count": 71,
   "metadata": {},
   "outputs": [],
   "source": [
    "filepath=\"model_save/weights-{epoch:02d}-{accuracy:.4f}.hdf5\"\n",
    "checkpoint = ModelCheckpoint(filepath=filepath, monitor='val_loss',  verbose=1, save_best_only=True, mode='auto')\n"
   ]
  },
  {
   "cell_type": "code",
   "execution_count": 72,
   "metadata": {},
   "outputs": [
    {
     "name": "stdout",
     "output_type": "stream",
     "text": [
      "Epoch 1/5\n",
      "73/74 [============================>.] - ETA: 0s - loss: 1.1248 - accuracy: 0.6031\n",
      "Epoch 00001: val_loss improved from inf to 0.84586, saving model to model_save/weights-01-0.6031.hdf5\n",
      "74/74 [==============================] - 32s 433ms/step - loss: 1.1248 - accuracy: 0.6031 - val_loss: 0.8459 - val_accuracy: 0.6682\n",
      "Epoch 2/5\n",
      "73/74 [============================>.] - ETA: 0s - loss: 0.8208 - accuracy: 0.6721\n",
      "Epoch 00002: val_loss improved from 0.84586 to 0.75507, saving model to model_save/weights-02-0.6721.hdf5\n",
      "74/74 [==============================] - 32s 439ms/step - loss: 0.8208 - accuracy: 0.6721 - val_loss: 0.7551 - val_accuracy: 0.6981\n",
      "Epoch 3/5\n",
      "73/74 [============================>.] - ETA: 0s - loss: 0.7379 - accuracy: 0.7118\n",
      "Epoch 00003: val_loss improved from 0.75507 to 0.69758, saving model to model_save/weights-03-0.7118.hdf5\n",
      "74/74 [==============================] - 32s 438ms/step - loss: 0.7379 - accuracy: 0.7118 - val_loss: 0.6976 - val_accuracy: 0.7255\n",
      "Epoch 4/5\n",
      "73/74 [============================>.] - ETA: 0s - loss: 0.6788 - accuracy: 0.7410\n",
      "Epoch 00004: val_loss improved from 0.69758 to 0.64807, saving model to model_save/weights-04-0.7410.hdf5\n",
      "74/74 [==============================] - 33s 448ms/step - loss: 0.6788 - accuracy: 0.7410 - val_loss: 0.6481 - val_accuracy: 0.7527\n",
      "Epoch 5/5\n",
      "73/74 [============================>.] - ETA: 0s - loss: 0.6401 - accuracy: 0.7608\n",
      "Epoch 00005: val_loss improved from 0.64807 to 0.59322, saving model to model_save/weights-05-0.7608.hdf5\n",
      "74/74 [==============================] - 33s 451ms/step - loss: 0.6401 - accuracy: 0.7608 - val_loss: 0.5932 - val_accuracy: 0.7864\n"
     ]
    },
    {
     "data": {
      "text/plain": [
       "<tensorflow.python.keras.callbacks.History at 0x7fc5faaef2e0>"
      ]
     },
     "execution_count": 72,
     "metadata": {},
     "output_type": "execute_result"
    }
   ],
   "source": [
    "batch=50000\n",
    "ep = 5\n",
    "\n",
    "optimizer = tf.keras.optimizers.Adam(lr=0.01)\n",
    "#optimizer = tf.keras.optimizers.Adadelta(learning_rate=0.01)\n",
    "#optimizer = tf.keras.optimizers.SGD(learning_rate=.01, momentum=0.9)\n",
    "\n",
    "model.compile(optimizer=optimizer,loss='categorical_crossentropy',metrics=['accuracy'])\n",
    "    \n",
    "model.fit(train_dt,y_train_,validation_data=(cv_dt,y_cv_),epochs=ep,batch_size=batch,callbacks=[checkpoint])"
   ]
  },
  {
   "cell_type": "code",
   "execution_count": 73,
   "metadata": {},
   "outputs": [
    {
     "name": "stdout",
     "output_type": "stream",
     "text": [
      "Epoch 1/50\n",
      "73/74 [============================>.] - ETA: 0s - loss: 0.6230 - accuracy: 0.7682\n",
      "Epoch 00001: val_loss did not improve from 0.59322\n",
      "74/74 [==============================] - 33s 452ms/step - loss: 0.6230 - accuracy: 0.7682 - val_loss: 0.5999 - val_accuracy: 0.7762\n",
      "Epoch 2/50\n",
      "73/74 [============================>.] - ETA: 0s - loss: 0.5836 - accuracy: 0.7900\n",
      "Epoch 00002: val_loss improved from 0.59322 to 0.58028, saving model to model_save/weights-02-0.7900.hdf5\n",
      "74/74 [==============================] - 33s 448ms/step - loss: 0.5836 - accuracy: 0.7900 - val_loss: 0.5803 - val_accuracy: 0.7892\n",
      "Epoch 3/50\n",
      "73/74 [============================>.] - ETA: 0s - loss: 0.5692 - accuracy: 0.7968\n",
      "Epoch 00003: val_loss did not improve from 0.58028\n",
      "74/74 [==============================] - 33s 444ms/step - loss: 0.5692 - accuracy: 0.7968 - val_loss: 0.5835 - val_accuracy: 0.7852\n",
      "Epoch 4/50\n",
      "73/74 [============================>.] - ETA: 0s - loss: 0.5539 - accuracy: 0.8039\n",
      "Epoch 00004: val_loss improved from 0.58028 to 0.52174, saving model to model_save/weights-04-0.8039.hdf5\n",
      "74/74 [==============================] - 35s 477ms/step - loss: 0.5539 - accuracy: 0.8039 - val_loss: 0.5217 - val_accuracy: 0.8185\n",
      "Epoch 5/50\n",
      "73/74 [============================>.] - ETA: 0s - loss: 0.5383 - accuracy: 0.8108\n",
      "Epoch 00005: val_loss did not improve from 0.52174\n",
      "74/74 [==============================] - 33s 446ms/step - loss: 0.5383 - accuracy: 0.8108 - val_loss: 0.5289 - val_accuracy: 0.8116\n",
      "Epoch 6/50\n",
      "73/74 [============================>.] - ETA: 0s - loss: 0.5249 - accuracy: 0.8165\n",
      "Epoch 00006: val_loss improved from 0.52174 to 0.49597, saving model to model_save/weights-06-0.8165.hdf5\n",
      "74/74 [==============================] - 34s 459ms/step - loss: 0.5248 - accuracy: 0.8165 - val_loss: 0.4960 - val_accuracy: 0.8247\n",
      "Epoch 7/50\n",
      "73/74 [============================>.] - ETA: 0s - loss: 0.5199 - accuracy: 0.8183\n",
      "Epoch 00007: val_loss did not improve from 0.49597\n",
      "74/74 [==============================] - 34s 460ms/step - loss: 0.5199 - accuracy: 0.8183 - val_loss: 0.5167 - val_accuracy: 0.8158\n",
      "Epoch 8/50\n",
      "73/74 [============================>.] - ETA: 0s - loss: 0.5283 - accuracy: 0.8152\n",
      "Epoch 00008: val_loss did not improve from 0.49597\n",
      "74/74 [==============================] - 35s 476ms/step - loss: 0.5283 - accuracy: 0.8152 - val_loss: 0.5206 - val_accuracy: 0.8110\n",
      "Epoch 9/50\n",
      "73/74 [============================>.] - ETA: 0s - loss: 0.5078 - accuracy: 0.8239\n",
      "Epoch 00009: val_loss did not improve from 0.49597\n",
      "74/74 [==============================] - 34s 465ms/step - loss: 0.5078 - accuracy: 0.8239 - val_loss: 0.4965 - val_accuracy: 0.8255\n",
      "Epoch 10/50\n",
      "73/74 [============================>.] - ETA: 0s - loss: 0.5181 - accuracy: 0.8185\n",
      "Epoch 00010: val_loss improved from 0.49597 to 0.48393, saving model to model_save/weights-10-0.8185.hdf5\n",
      "74/74 [==============================] - 34s 460ms/step - loss: 0.5181 - accuracy: 0.8185 - val_loss: 0.4839 - val_accuracy: 0.8334\n",
      "Epoch 11/50\n",
      "73/74 [============================>.] - ETA: 0s - loss: 0.4936 - accuracy: 0.8290\n",
      "Epoch 00011: val_loss improved from 0.48393 to 0.46038, saving model to model_save/weights-11-0.8290.hdf5\n",
      "74/74 [==============================] - 34s 454ms/step - loss: 0.4936 - accuracy: 0.8290 - val_loss: 0.4604 - val_accuracy: 0.8420\n",
      "Epoch 12/50\n",
      "73/74 [============================>.] - ETA: 0s - loss: 0.4958 - accuracy: 0.8279\n",
      "Epoch 00012: val_loss did not improve from 0.46038\n",
      "74/74 [==============================] - 33s 450ms/step - loss: 0.4957 - accuracy: 0.8279 - val_loss: 0.4851 - val_accuracy: 0.8347\n",
      "Epoch 13/50\n",
      "73/74 [============================>.] - ETA: 0s - loss: 0.4809 - accuracy: 0.8336\n",
      "Epoch 00013: val_loss did not improve from 0.46038\n",
      "74/74 [==============================] - 34s 455ms/step - loss: 0.4809 - accuracy: 0.8336 - val_loss: 0.5261 - val_accuracy: 0.8163\n",
      "Epoch 14/50\n",
      "73/74 [============================>.] - ETA: 0s - loss: 0.5540 - accuracy: 0.8035\n",
      "Epoch 00014: val_loss did not improve from 0.46038\n",
      "74/74 [==============================] - 34s 464ms/step - loss: 0.5540 - accuracy: 0.8035 - val_loss: 0.5173 - val_accuracy: 0.8158\n",
      "Epoch 15/50\n",
      "73/74 [============================>.] - ETA: 0s - loss: 0.5035 - accuracy: 0.8261\n",
      "Epoch 00015: val_loss did not improve from 0.46038\n",
      "74/74 [==============================] - 35s 471ms/step - loss: 0.5035 - accuracy: 0.8261 - val_loss: 0.5001 - val_accuracy: 0.8249\n",
      "Epoch 16/50\n",
      "73/74 [============================>.] - ETA: 0s - loss: 0.4923 - accuracy: 0.8311\n",
      "Epoch 00016: val_loss did not improve from 0.46038\n",
      "74/74 [==============================] - 33s 447ms/step - loss: 0.4923 - accuracy: 0.8311 - val_loss: 0.5538 - val_accuracy: 0.8063\n",
      "Epoch 17/50\n",
      "73/74 [============================>.] - ETA: 0s - loss: 0.4910 - accuracy: 0.8315\n",
      "Epoch 00017: val_loss did not improve from 0.46038\n",
      "74/74 [==============================] - 34s 464ms/step - loss: 0.4910 - accuracy: 0.8315 - val_loss: 0.4880 - val_accuracy: 0.8304\n",
      "Epoch 18/50\n",
      "73/74 [============================>.] - ETA: 0s - loss: 0.4815 - accuracy: 0.8355\n",
      "Epoch 00018: val_loss improved from 0.46038 to 0.45806, saving model to model_save/weights-18-0.8355.hdf5\n",
      "74/74 [==============================] - 34s 462ms/step - loss: 0.4815 - accuracy: 0.8355 - val_loss: 0.4581 - val_accuracy: 0.8455\n",
      "Epoch 19/50\n",
      "73/74 [============================>.] - ETA: 0s - loss: 0.4792 - accuracy: 0.8364\n",
      "Epoch 00019: val_loss improved from 0.45806 to 0.44706, saving model to model_save/weights-19-0.8364.hdf5\n",
      "74/74 [==============================] - 35s 467ms/step - loss: 0.4792 - accuracy: 0.8364 - val_loss: 0.4471 - val_accuracy: 0.8467\n",
      "Epoch 20/50\n",
      "73/74 [============================>.] - ETA: 0s - loss: 0.4821 - accuracy: 0.8350\n",
      "Epoch 00020: val_loss did not improve from 0.44706\n",
      "74/74 [==============================] - 34s 455ms/step - loss: 0.4821 - accuracy: 0.8350 - val_loss: 0.4574 - val_accuracy: 0.8417\n",
      "Epoch 21/50\n",
      "73/74 [============================>.] - ETA: 0s - loss: 0.4659 - accuracy: 0.8414\n",
      "Epoch 00021: val_loss did not improve from 0.44706\n",
      "74/74 [==============================] - 35s 469ms/step - loss: 0.4659 - accuracy: 0.8414 - val_loss: 0.4870 - val_accuracy: 0.8330\n",
      "Epoch 22/50\n",
      "73/74 [============================>.] - ETA: 0s - loss: 0.4733 - accuracy: 0.8382\n",
      "Epoch 00022: val_loss did not improve from 0.44706\n",
      "74/74 [==============================] - 34s 461ms/step - loss: 0.4733 - accuracy: 0.8382 - val_loss: 0.4716 - val_accuracy: 0.8360\n",
      "Epoch 23/50\n",
      "73/74 [============================>.] - ETA: 0s - loss: 0.4591 - accuracy: 0.8436\n",
      "Epoch 00023: val_loss did not improve from 0.44706\n",
      "74/74 [==============================] - 39s 523ms/step - loss: 0.4591 - accuracy: 0.8436 - val_loss: 0.4568 - val_accuracy: 0.8417\n",
      "Epoch 24/50\n",
      "73/74 [============================>.] - ETA: 0s - loss: 0.4782 - accuracy: 0.8354\n",
      "Epoch 00024: val_loss did not improve from 0.44706\n",
      "74/74 [==============================] - 34s 465ms/step - loss: 0.4782 - accuracy: 0.8354 - val_loss: 0.4947 - val_accuracy: 0.8316\n",
      "Epoch 25/50\n",
      "73/74 [============================>.] - ETA: 0s - loss: 0.4696 - accuracy: 0.8391\n",
      "Epoch 00025: val_loss did not improve from 0.44706\n",
      "74/74 [==============================] - 35s 475ms/step - loss: 0.4696 - accuracy: 0.8391 - val_loss: 0.5296 - val_accuracy: 0.8139\n",
      "Epoch 26/50\n",
      "73/74 [============================>.] - ETA: 0s - loss: 0.4914 - accuracy: 0.8320\n",
      "Epoch 00026: val_loss did not improve from 0.44706\n",
      "74/74 [==============================] - 35s 480ms/step - loss: 0.4914 - accuracy: 0.8320 - val_loss: 0.4715 - val_accuracy: 0.8390\n",
      "Epoch 27/50\n",
      "73/74 [============================>.] - ETA: 0s - loss: 0.4571 - accuracy: 0.8437\n",
      "Epoch 00027: val_loss did not improve from 0.44706\n",
      "74/74 [==============================] - 34s 463ms/step - loss: 0.4571 - accuracy: 0.8437 - val_loss: 0.5549 - val_accuracy: 0.8067\n",
      "Epoch 28/50\n",
      "73/74 [============================>.] - ETA: 0s - loss: 0.4525 - accuracy: 0.8456\n",
      "Epoch 00028: val_loss did not improve from 0.44706\n",
      "74/74 [==============================] - 35s 473ms/step - loss: 0.4525 - accuracy: 0.8456 - val_loss: 0.5455 - val_accuracy: 0.8087\n",
      "Epoch 29/50\n",
      "73/74 [============================>.] - ETA: 0s - loss: 0.4557 - accuracy: 0.8440\n",
      "Epoch 00029: val_loss did not improve from 0.44706\n",
      "74/74 [==============================] - 35s 479ms/step - loss: 0.4557 - accuracy: 0.8440 - val_loss: 0.4632 - val_accuracy: 0.8408\n",
      "Epoch 30/50\n",
      "73/74 [============================>.] - ETA: 0s - loss: 0.4416 - accuracy: 0.8496\n",
      "Epoch 00030: val_loss did not improve from 0.44706\n",
      "74/74 [==============================] - 35s 471ms/step - loss: 0.4416 - accuracy: 0.8496 - val_loss: 0.5541 - val_accuracy: 0.8064\n",
      "Epoch 31/50\n",
      "73/74 [============================>.] - ETA: 0s - loss: 0.4417 - accuracy: 0.8495\n",
      "Epoch 00031: val_loss did not improve from 0.44706\n",
      "74/74 [==============================] - 36s 490ms/step - loss: 0.4417 - accuracy: 0.8495 - val_loss: 0.4796 - val_accuracy: 0.8315\n",
      "Epoch 32/50\n",
      "73/74 [============================>.] - ETA: 0s - loss: 0.4466 - accuracy: 0.8474\n",
      "Epoch 00032: val_loss did not improve from 0.44706\n",
      "74/74 [==============================] - 34s 465ms/step - loss: 0.4466 - accuracy: 0.8474 - val_loss: 0.4754 - val_accuracy: 0.8342\n",
      "Epoch 33/50\n",
      "73/74 [============================>.] - ETA: 0s - loss: 0.4349 - accuracy: 0.8515\n",
      "Epoch 00033: val_loss did not improve from 0.44706\n",
      "74/74 [==============================] - 34s 463ms/step - loss: 0.4349 - accuracy: 0.8515 - val_loss: 0.5186 - val_accuracy: 0.8241\n",
      "Epoch 34/50\n",
      "73/74 [============================>.] - ETA: 0s - loss: 0.4317 - accuracy: 0.8527\n",
      "Epoch 00034: val_loss did not improve from 0.44706\n",
      "74/74 [==============================] - 37s 497ms/step - loss: 0.4317 - accuracy: 0.8527 - val_loss: 0.5482 - val_accuracy: 0.8208\n",
      "Epoch 35/50\n",
      "73/74 [============================>.] - ETA: 0s - loss: 0.4311 - accuracy: 0.8530\n",
      "Epoch 00035: val_loss did not improve from 0.44706\n",
      "74/74 [==============================] - 35s 472ms/step - loss: 0.4311 - accuracy: 0.8530 - val_loss: 0.5504 - val_accuracy: 0.8108\n",
      "Epoch 36/50\n",
      "73/74 [============================>.] - ETA: 0s - loss: 0.4375 - accuracy: 0.8500\n",
      "Epoch 00036: val_loss improved from 0.44706 to 0.42167, saving model to model_save/weights-36-0.8500.hdf5\n",
      "74/74 [==============================] - 35s 475ms/step - loss: 0.4375 - accuracy: 0.8500 - val_loss: 0.4217 - val_accuracy: 0.8554\n",
      "Epoch 37/50\n",
      "73/74 [============================>.] - ETA: 0s - loss: 0.4212 - accuracy: 0.8563\n",
      "Epoch 00037: val_loss did not improve from 0.42167\n",
      "74/74 [==============================] - 36s 491ms/step - loss: 0.4212 - accuracy: 0.8563 - val_loss: 0.5151 - val_accuracy: 0.8298\n",
      "Epoch 38/50\n",
      "73/74 [============================>.] - ETA: 0s - loss: 0.4244 - accuracy: 0.8551\n",
      "Epoch 00038: val_loss did not improve from 0.42167\n",
      "74/74 [==============================] - 36s 487ms/step - loss: 0.4244 - accuracy: 0.8551 - val_loss: 0.4690 - val_accuracy: 0.8438\n",
      "Epoch 39/50\n",
      "73/74 [============================>.] - ETA: 0s - loss: 0.4180 - accuracy: 0.8573\n",
      "Epoch 00039: val_loss did not improve from 0.42167\n",
      "74/74 [==============================] - 35s 477ms/step - loss: 0.4180 - accuracy: 0.8573 - val_loss: 0.4697 - val_accuracy: 0.8425\n",
      "Epoch 40/50\n",
      "73/74 [============================>.] - ETA: 0s - loss: 0.4217 - accuracy: 0.8557\n",
      "Epoch 00040: val_loss improved from 0.42167 to 0.41785, saving model to model_save/weights-40-0.8557.hdf5\n",
      "74/74 [==============================] - 36s 485ms/step - loss: 0.4217 - accuracy: 0.8557 - val_loss: 0.4178 - val_accuracy: 0.8570\n",
      "Epoch 41/50\n",
      "73/74 [============================>.] - ETA: 0s - loss: 0.4166 - accuracy: 0.8576\n",
      "Epoch 00041: val_loss did not improve from 0.41785\n",
      "74/74 [==============================] - 35s 478ms/step - loss: 0.4166 - accuracy: 0.8576 - val_loss: 0.4628 - val_accuracy: 0.8440\n",
      "Epoch 42/50\n",
      "73/74 [============================>.] - ETA: 0s - loss: 0.4374 - accuracy: 0.8500\n",
      "Epoch 00042: val_loss did not improve from 0.41785\n",
      "74/74 [==============================] - 36s 481ms/step - loss: 0.4374 - accuracy: 0.8500 - val_loss: 0.5124 - val_accuracy: 0.8269\n",
      "Epoch 43/50\n",
      "73/74 [============================>.] - ETA: 0s - loss: 0.4177 - accuracy: 0.8573\n",
      "Epoch 00043: val_loss did not improve from 0.41785\n",
      "74/74 [==============================] - 34s 465ms/step - loss: 0.4177 - accuracy: 0.8573 - val_loss: 0.4678 - val_accuracy: 0.8443\n",
      "Epoch 44/50\n",
      "73/74 [============================>.] - ETA: 0s - loss: 0.4104 - accuracy: 0.8596\n",
      "Epoch 00044: val_loss did not improve from 0.41785\n",
      "74/74 [==============================] - 35s 480ms/step - loss: 0.4103 - accuracy: 0.8596 - val_loss: 0.4403 - val_accuracy: 0.8495\n",
      "Epoch 45/50\n",
      "73/74 [============================>.] - ETA: 0s - loss: 0.4069 - accuracy: 0.8607\n",
      "Epoch 00045: val_loss did not improve from 0.41785\n",
      "74/74 [==============================] - 35s 480ms/step - loss: 0.4069 - accuracy: 0.8607 - val_loss: 0.4466 - val_accuracy: 0.8494\n",
      "Epoch 46/50\n",
      "73/74 [============================>.] - ETA: 0s - loss: 0.4088 - accuracy: 0.8597\n",
      "Epoch 00046: val_loss did not improve from 0.41785\n",
      "74/74 [==============================] - 35s 473ms/step - loss: 0.4088 - accuracy: 0.8597 - val_loss: 0.4787 - val_accuracy: 0.8363\n",
      "Epoch 47/50\n",
      "73/74 [============================>.] - ETA: 0s - loss: 0.4053 - accuracy: 0.8608\n",
      "Epoch 00047: val_loss did not improve from 0.41785\n",
      "74/74 [==============================] - 35s 478ms/step - loss: 0.4053 - accuracy: 0.8608 - val_loss: 0.4212 - val_accuracy: 0.8553\n",
      "Epoch 48/50\n",
      "73/74 [============================>.] - ETA: 0s - loss: 0.4053 - accuracy: 0.8605\n",
      "Epoch 00048: val_loss did not improve from 0.41785\n",
      "74/74 [==============================] - 35s 476ms/step - loss: 0.4053 - accuracy: 0.8605 - val_loss: 0.5970 - val_accuracy: 0.8035\n",
      "Epoch 49/50\n",
      "73/74 [============================>.] - ETA: 0s - loss: 0.4230 - accuracy: 0.8536\n",
      "Epoch 00049: val_loss did not improve from 0.41785\n",
      "74/74 [==============================] - 34s 461ms/step - loss: 0.4230 - accuracy: 0.8536 - val_loss: 0.5070 - val_accuracy: 0.8276\n",
      "Epoch 50/50\n",
      "73/74 [============================>.] - ETA: 0s - loss: 0.4065 - accuracy: 0.8598\n",
      "Epoch 00050: val_loss did not improve from 0.41785\n",
      "74/74 [==============================] - 34s 460ms/step - loss: 0.4065 - accuracy: 0.8598 - val_loss: 0.5220 - val_accuracy: 0.8249\n"
     ]
    },
    {
     "data": {
      "text/plain": [
       "<tensorflow.python.keras.callbacks.History at 0x7fc5fb97fa30>"
      ]
     },
     "execution_count": 73,
     "metadata": {},
     "output_type": "execute_result"
    }
   ],
   "source": [
    "ep = 50\n",
    "model.fit(train_dt,y_train_,validation_data=(cv_dt,y_cv_),epochs=ep,batch_size=batch,callbacks=[checkpoint])"
   ]
  },
  {
   "cell_type": "code",
   "execution_count": null,
   "metadata": {},
   "outputs": [],
   "source": []
  },
  {
   "cell_type": "code",
   "execution_count": null,
   "metadata": {},
   "outputs": [],
   "source": []
  }
 ],
 "metadata": {
  "kernelspec": {
   "display_name": "Python 3",
   "language": "python",
   "name": "python3"
  },
  "language_info": {
   "codemirror_mode": {
    "name": "ipython",
    "version": 3
   },
   "file_extension": ".py",
   "mimetype": "text/x-python",
   "name": "python",
   "nbconvert_exporter": "python",
   "pygments_lexer": "ipython3",
   "version": "3.8.3"
  }
 },
 "nbformat": 4,
 "nbformat_minor": 4
}
